{
 "cells": [
  {
   "cell_type": "markdown",
   "metadata": {},
   "source": [
    "# Gaussian and Bilateral filters with AVX"
   ]
  },
  {
   "cell_type": "markdown",
   "metadata": {
    "toc": "true"
   },
   "source": [
    "# Table of Contents\n",
    " <p><div class=\"lev1\"><a href=\"#Gaussian-and-Bilateral-filters-with-AVX\">Gaussian and Bilateral filters with AVX</a></div><div class=\"lev1\"><a href=\"#1.-Introduction---theory\">1. Introduction - theory</a></div><div class=\"lev1\"><a href=\"#2.-Preprocessing-of-the-image\">2. Preprocessing of the image</a></div><div class=\"lev2\"><a href=\"#2.1-Kernel-truncation\">2.1 Kernel truncation</a></div><div class=\"lev2\"><a href=\"#2.2-Image-padding\">2.2 Image padding</a></div><div class=\"lev1\"><a href=\"#3.-Bilateral-filter\">3. Bilateral filter</a></div><div class=\"lev1\"><a href=\"#3.1-Code-implementations-and-optimization\">3.1 Code implementations and optimization</a></div><div class=\"lev2\"><a href=\"#3.1.1-Introductory-remarks\">3.1.1 Introductory remarks</a></div><div class=\"lev2\"><a href=\"#3.1.2-Cython,-AVX-and-Python-multithreading\">3.1.2 Cython, AVX and Python multithreading</a></div><div class=\"lev3\"><a href=\"#Cython\">Cython</a></div><div class=\"lev3\"><a href=\"#AVX\">AVX</a></div><div class=\"lev3\"><a href=\"#Python-multithreading\">Python multithreading</a></div><div class=\"lev2\"><a href=\"#Overview-of-the-optimizations-we-have-done\">Overview of the optimizations we have done</a></div><div class=\"lev3\"><a href=\"#Loop-over-the-pixels-of-the-output\">Loop over the pixels of the output</a></div><div class=\"lev3\"><a href=\"#Computation-for-one-pixel\">Computation for one pixel</a></div><div class=\"lev2\"><a href=\"#Our-implementations\">Our implementations</a></div><div class=\"lev3\"><a href=\"#r_r1\">r_r1</a></div><div class=\"lev3\"><a href=\"#r_pr1\">r_pr1</a></div><div class=\"lev3\"><a href=\"#r_AVX1\">r_AVX1</a></div><div class=\"lev3\"><a href=\"#r_r2\">r_r2</a></div><div class=\"lev3\"><a href=\"#r_pr2\">r_pr2</a></div><div class=\"lev3\"><a href=\"#r_AVX2\">r_AVX2</a></div><div class=\"lev3\"><a href=\"#prj_r1\">prj_r1</a></div><div class=\"lev3\"><a href=\"#prj_AVX\">prj_AVX</a></div><div class=\"lev3\"><a href=\"#step_r1\">step_r1</a></div><div class=\"lev3\"><a href=\"#AVX_r\">AVX_r</a></div><div class=\"lev3\"><a href=\"#mth_pr\">mth_pr</a></div><div class=\"lev1\"><a href=\"#Benchmarking-performances\">Benchmarking performances</a></div><div class=\"lev2\"><a href=\"#Benchmark-when-we-vary-the-size-of-the-image\"><strong>Benchmark when we vary the size of the image</strong></a></div><div class=\"lev2\"><a href=\"#Benchmark-when-we-vary-the-truncation-parameter\"><strong>Benchmark when we vary the truncation parameter</strong></a></div><div class=\"lev2\"><a href=\"#Benchmark-when-we-vary-the-truncation-parameter\"><strong>Benchmark when we vary the truncation parameter</strong></a></div><div class=\"lev1\"><a href=\"#4.-Gaussian-filter\">4. Gaussian filter</a></div><div class=\"lev2\"><a href=\"#4.1-Analysis\">4.1 Analysis</a></div><div class=\"lev1\"><a href=\"#Conclusion\">Conclusion</a></div>"
   ]
  },
  {
   "cell_type": "markdown",
   "metadata": {},
   "source": [
    "---\n",
    "\n",
    "---\n",
    "\n",
    "---\n",
    "\n",
    "# 1. Introduction - theory\n",
    "\n",
    "The Gaussian and the bilateral filters are two techniques used to blur images. The bilateral filter has the advantages of respecting strong edges. We present here the results of our home-made Gaussian and Bilateral filters (cf. figure below). Although the goal of this project is to improve the performance of the filter algorithms, we show here the actual images to give a qualitative insight.\n",
    "![](test_bilateral.png)\n",
    "\n",
    "Bluring is the simplest way of smoothing an image. In this project the **Gaussian filter** is defined as \n",
    "\n",
    "$$ C_{i,j} = \\sum_{m=0}^{2 l_w} \\sum_{n=0}^{2 lw} K_{m,n} \\, I_{i-lw + m, j-l_w+n},$$\n",
    "\n",
    "where $C_{i,j}$ is the filtered image. $i$ and $j$ are the indices of the pixels in the image, $K_{m,n}$ is the Gaussian Kernel and $I_{i,j}$ is the input image. The Gaussian kernel is defined as\n",
    "\n",
    "$$ K_{m,n} = \\frac{1}{\\sqrt{2 \\pi \\sigma} }  \\exp \\left( \\frac{||(m,n) - (i,j)||_2}{2 \\sigma^2}  \\right)$$.\n",
    "\n",
    "\n",
    "Gaussian filtering is a weighted average of the intensity of the adjacent positions with a weight decreasing with the spatial distance to the center position. \n",
    "\n",
    "The **bilateral filter** is also defined as a weighted average of adjacent pixels, in a similar fashion to the Gaussian convolution. One key difference is that the bilateral filter accounts for the difference in value with the neighbors to preserve edges while smoothing. The concept of the bilateral filter is that for a pixel to influence another pixel, it should not only occupy a close by location but also have a similar value. The filtered image is defined as\n",
    "\n",
    "$$I^\\text{filtered}(x) = \\frac{1}{W_p} \\sum_{x_i \\in \\Omega} I(x_i)f_r(\\|I(x_i)-I(x)\\|)g_s(\\|x_i-x\\|)$$\n",
    "\n",
    "This equation is a normalized weighted average where $g_s$ is a spatial Gaussian weighting that decreases the influence of distant pixels and $f_r$ is a range Gaussian that decreases the influence of pixels $x_i$ when their intensity values differ from $I(x)$. The steps of the image treatment are summarized in the following figure.\n",
    "\n",
    "![](fig1.png)\n",
    "\n",
    "We first pad the input image, then for each pixel we apply the convolution using a window of shape (the shape of this window will be detailed later). This gives the filtered pixel (in black).\n",
    "\n",
    "# 2. Preprocessing of the image\n",
    "\n",
    "## 2.1 Kernel truncation\n",
    "\n",
    "The kernel truncation explained in this subsection is applied to both the Gaussian and the bilateral filters. For both filters we replaced the weight function $K(x)$ by a truncated Gaussian $H(x)*K(x)$ , where $H$ is a Heaviside function whose value is 1 for $x>0$ and 0 otherwise. Therefore, at any given pixel, the local averaging includes only values greater than intensity at p and guarantees a filtered value at or above the local image intensity. In our code the size of the kernel is *lw =sigma* $\\times$ *truncate* where *sigma* is the standard deviation of the kernel and *truncate* a parameter of our filter.\n",
    "\n",
    "## 2.2 Image padding\n",
    "\n",
    "Consider the pixel [0,0] of the input image. Filtering this pixel requires getting a window around it of size [2*lw +1, 2*lw +1]. Therefore we pad our input image on the four sides. We pad it with various methods that are already implemented in scipy: reflect, nearest, constant and wrap. Here is the description of each method.\n",
    "\n",
    "\n",
    "    mode       |   Ext   |         Input          |   Ext\n",
    "    -----------+---------+------------------------+---------\n",
    "    'reflect'  | 3  2  1 | 1  2  3  4  5  6  7  8 | 8  7  6 \n",
    "    'nearest'  | 1  1  1 | 1  2  3  4  5  6  7  8 | 8  8  8\n",
    "    'constant' | 0  0  0 | 1  2  3  4  5  6  7  8 | 0  0  0\n",
    "    'wrap'     | 6  7  8 | 1  2  3  4  5  6  7  8 | 1  2  3    "
   ]
  },
  {
   "cell_type": "code",
   "execution_count": 2,
   "metadata": {
    "collapsed": false
   },
   "outputs": [
    {
     "name": "stdout",
     "output_type": "stream",
     "text": [
      "Compiling with /usr/local/bin/clang-omp\n"
     ]
    }
   ],
   "source": [
    "import sys\n",
    "import os.path\n",
    "sys.path.append(os.path.join('.', 'util'))\n",
    "\n",
    "import set_compiler\n",
    "set_compiler.install()\n",
    "\n",
    "import pyximport\n",
    "pyximport.install()\n",
    "\n",
    "from timer import Timer\n",
    "\n",
    "import pylab as plt\n",
    "import numpy as np"
   ]
  },
  {
   "cell_type": "markdown",
   "metadata": {},
   "source": [
    "# 3. Bilateral filter\n",
    "\n",
    "**Motivation**\n",
    "\n",
    "We think that the hierarchy in Hardware performance for such a filter is the following:\n",
    "\n",
    "1. Integrated GPU\n",
    "2. CPU with AVX\n",
    "3. Not integrated GPU\n",
    "\n",
    "CPU with AVX can indeed be faster than a GPU that is not integrated in the case of one pass of a filter on an image. Because the data going through the bus from GPU to CPU is much slower than the access to the RAM.\n",
    "\n",
    "\n",
    "\n",
    "Using the SIMD of AVX allows us to optimize performance on CPU calculation. However, this will be true only if the algorithm is **CPU bound**. That is why we will pay special care to memory optimization in this project."
   ]
  },
  {
   "cell_type": "markdown",
   "metadata": {},
   "source": [
    "# 3.1 Code implementations and optimization"
   ]
  },
  {
   "cell_type": "markdown",
   "metadata": {},
   "source": [
    "## 3.1.1 Introductory remarks\n",
    "\n",
    "In the following part of the report we will introduce snippets of our code that don't run by themselves but that show the different things we tried to improve performances. All the function are written in seperate files and are called within this Ipython notebook.Furthermore, to emphasize our work on the optimization of the code we highligh in this report different concepts such as the memory behaviour and the parallelism.\n",
    "\n",
    "We explore some implementations using AVX. However, we could not manage to code the exponential function in AVX. This computer has only SSE and has an AVX emulator. There are exp functions coded for AVX on the internet but they are not working with an emulator. Because finding a hack to make the exponential function works in AVX was taking too much of our time, we decided to move on in order to focus on concepts of the course and simply commenting out the lines where we take the exp of an AVX array. We could still benchmarck the accuracy of our code when we were not using AVX, in a first step with the Gaussian filter that we compared against a scipy function and for a bilateral filter using only cython. We have already showed an output image of our code as the example for the bilateral filter at the beginning of this report (where we used the function r_r1 that we present below)."
   ]
  },
  {
   "cell_type": "markdown",
   "metadata": {},
   "source": [
    "---\n",
    "\n",
    "---\n",
    "\n",
    "## 3.1.2 Cython, AVX and Python multithreading"
   ]
  },
  {
   "cell_type": "markdown",
   "metadata": {},
   "source": [
    "### Cython\n",
    "\n",
    "You can see the documentation [here](http://docs.cython.org/). We specifically use:\n",
    "\n",
    "- the fact that we can release the Global Interpreter Lock (GIL) with Cython. It will prove particularly useful in our multi-threaded implementation because it enables actual multi-threading.\n",
    "- the cython implementation of OpenMP for parallelism, and more specifically [prange](http://docs.cython.org/src/userguide/parallelism.html). We will just remind that at the end of every  prange(), there is an implicit barrier. All threads must reach the barrier before computation continues, and there is no locks.\n",
    "\n",
    "Nota Bene: this computer having only 2 threads, when there is a prange, the number of threads working is equal to 2. The description of this machine is in the following cell:"
   ]
  },
  {
   "cell_type": "code",
   "execution_count": 99,
   "metadata": {
    "collapsed": false
   },
   "outputs": [
    {
     "name": "stdout",
     "output_type": "stream",
     "text": [
      "2016-02-05T19:29:57\n",
      "\n",
      "CPython 2.7.6\n",
      "IPython 3.1.0\n",
      "\n",
      "compiler   : GCC 4.8.2\n",
      "system     : Linux\n",
      "release    : 3.13.0-77-generic\n",
      "machine    : x86_64\n",
      "processor  : x86_64\n",
      "CPU cores  : 2\n",
      "interpreter: 64bit\n"
     ]
    }
   ],
   "source": [
    "%watermark"
   ]
  },
  {
   "cell_type": "markdown",
   "metadata": {},
   "source": [
    "### AVX\n",
    "\n",
    "Advanced Vector Extensions (AVX) are extensions to the x86 instruction set architecture for microprocessors from Intel and AMD (from [Wikipedia](https://en.wikipedia.org/wiki/Advanced_Vector_Extensions)). This computer actually uses another extension which SS3 (because it was built before 2011).\n",
    "\n",
    "**More's law**\n",
    "\n",
    "As seen in class, the number of transistors per chip has increased following More's exponential law. Though the clock time has not (transistors get smaller but heat cannot be sucked out of the chips fast enough for a given area, thus the temperature increases and the chip melts). AVX uses the paradigm of **[SIMD](https://en.wikipedia.org/wiki/SIMD)**: \"Single Instruction Multiple Data\". The same instruction is done  8-way-parallel on multiple data **without concurrency.**\n",
    "\n",
    "AVX enables a performance increase only if the algorithm is **computationally intensive/ [CPU bound](http://stackoverflow.com/questions/868568/what-do-the-terms-cpu-bound-and-i-o-bound-mean)** (a typical example is mandelbrot which was extensively studied in class. However it should not speed things up much if the algorithm is **[I/O bound](http://stackoverflow.com/questions/868568/what-do-the-terms-cpu-bound-and-i-o-bound-mean) (+ [Serialization](https://msdn.microsoft.com/en-us/library/ms233843.aspx))**! We will be able to check this in our optimization study of the I/O. We will try our best to use the memory effectively so that there is a real gain in using AVX."
   ]
  },
  {
   "cell_type": "markdown",
   "metadata": {},
   "source": [
    "### Python multithreading\n",
    "\n",
    "We use Python [threading](https://docs.python.org/2/library/threading.html) module. Multithreading permits us to share the image accross the threads. There is no local copy of the image which makes the code run faster.\n",
    "\n",
    "One drawback of Python threading is that is cannot perform \"real\" multi-threading if a CPU-bound code is written in pure python because the GIL has to keep track of every Python objects. Though we dodge this short coming using \"nogil=True\" in Cython."
   ]
  },
  {
   "cell_type": "markdown",
   "metadata": {},
   "source": [
    "---\n",
    "\n",
    "---\n",
    "\n",
    "## Overview of the optimizations we have done\n",
    "\n",
    "As a diagram is worth a thousand words, here is a diagram of bilateral filter:"
   ]
  },
  {
   "cell_type": "markdown",
   "metadata": {
    "collapsed": false
   },
   "source": [
    "<img src=\"./fig1.png\" >"
   ]
  },
  {
   "cell_type": "markdown",
   "metadata": {},
   "source": [
    "Let's just emphasize that there are 2 part we will optimize (which are the next 2 paragraphs):\n",
    "\n",
    "- Loop over the pixels of the output\n",
    "- Computation of one pixel"
   ]
  },
  {
   "cell_type": "markdown",
   "metadata": {},
   "source": [
    "### Loop over the pixels of the output\n",
    "\n",
    "We have thought of 3 different ways to implement the double for loop over the pixels:\n",
    "\n",
    "1. using one range on the rows and one range on the columns\n",
    "2. using one range on the rows and one prange with steps of 8 for the columns (a further optimization does the whole step of 8 at once using AVX)\n",
    "3. using python multithread to send the rows and use prange with steps of 8 for the columns and AVX: this is our best implementation regarding time.\n"
   ]
  },
  {
   "cell_type": "markdown",
   "metadata": {},
   "source": [
    "### Computation for one pixel\n",
    "\n",
    "In bilateral filter, you cannot just multiply a window by a kernel. A double for loop has to be done to sum up all the contributions of the pixels in the neighborhood to the computed output pixel.\n",
    "\n",
    "We have though of 3 different ways to do these for loops:\n",
    "\n",
    "1. using one prange on the rows and one range on the columns.\n",
    "2. using one prange on the rows and one range with steps of 8 for the columns (a further optimization does the whole step of 8 at once using AVX)\n",
    "3. using one range/prange  on the"
   ]
  },
  {
   "cell_type": "markdown",
   "metadata": {},
   "source": [
    "---\n",
    "\n",
    "---\n",
    "\n",
    "## Our implementations\n",
    "\n",
    "In this section we go through the different iterations and optimization of our algorithm. For each iteration we describe the algorithm and try to predict what the performance should be. We also do one run looking at the cache performence with the command line \"! perf stat -e cache-misses,instructions ./driver_#function#.py 256 2 2 4\".\n",
    "Here:\n",
    "\n",
    "- 256 stands for the number of pixel on one side of the image.\n",
    "- 2 stands for sigma_s\n",
    "- the other 2 stands for sigma_r\n",
    "- 4 is the truncate number.\n",
    "\n",
    "However, if you run it on a mac this won't work because perf only exists on Linux. If the line are run on Linux, the values will be different because it will be another machine. But we expect the same trends to be seen.\n",
    "\n",
    "The driver function calls the function \"time_update.py\" which is a transformed version of the function we used in class to study cache. It uses the module timeit and takes the minimum time out of 5 run of the function 3 times. We take the min because we try to avoid the noise related Garbage Collector for example that could hamper the performance.\n",
    "\n",
    "The \"cache performance\" is a try, we got it from [this article](http://developerblog.redhat.com/2014/03/10/determining-whether-an-application-has-poor-cache-performance-2/) that says \"The ratio of cache-misses to instructions will give an indication how well the cache is working\". Though in praxis, it is hard to see the correlation with the time performance. The number of instructions varies also a lot from one implementation to the other.\n",
    "\n",
    "We then briefle discuss the performance however we will further run and discuss the performance in the next section."
   ]
  },
  {
   "cell_type": "markdown",
   "metadata": {},
   "source": [
    "**Note on the code parameters**\n",
    "\n",
    "The bilateral filter takes as inputs:\n",
    "\n",
    " - sigma_r is the standard deviation of the bilateral filter\n",
    " - sigma_s is the standard deviation of the gaussian blur\n",
    " - truncate is the value at which we truncate."
   ]
  },
  {
   "cell_type": "markdown",
   "metadata": {},
   "source": [
    "---\n",
    "\n",
    "### r_r1\n",
    "\n",
    "**Description**\n",
    "\n",
    "Here we do ranges for the loops over output pixels."
   ]
  },
  {
   "cell_type": "raw",
   "metadata": {},
   "source": [
    "    for i in range(lw, imsize0 + lw):\n",
    "        for j in range(lw, imsize1 + lw):\n",
    "        [...code for one pixel...]"
   ]
  },
  {
   "cell_type": "markdown",
   "metadata": {},
   "source": [
    "This figure also illustrates it. This will be the case in the next 6 implementations.\n",
    "\n",
    "![](fig2.png)"
   ]
  },
  {
   "cell_type": "markdown",
   "metadata": {},
   "source": [
    "We also do ranges for the computation of one pixel. (Actually in the code one of the range has step 8 to prepare for a future implementation. We also need to care about the dimension of the window in order to get multiples of 8 as shown in the figure, **we will use a mask ther with AVX**).\n",
    "\n",
    "![](fig6.png)\n",
    "\n",
    "The corresponding code is:"
   ]
  },
  {
   "cell_type": "raw",
   "metadata": {},
   "source": [
    "            for k in range(windowsize0):\n",
    "                for l in range(0, windowsize1, 8):\n",
    "                    [...code to load and compute the contribution of pixels 8 by 8...]"
   ]
  },
  {
   "cell_type": "markdown",
   "metadata": {},
   "source": [
    "**Prediction**\n",
    "\n",
    "This is just a python code translated into cython. We have not looked at the performance of pure Python (because it is not relevant) but this implementation should be about twice faster. Also it should be one of the worst performance we will look at since we have not started to optimize yet."
   ]
  },
  {
   "cell_type": "code",
   "execution_count": 23,
   "metadata": {
    "collapsed": false
   },
   "outputs": [
    {
     "name": "stdout",
     "output_type": "stream",
     "text": [
      "<built-in function r_r1>: 31.082392931s\n",
      "\n",
      " Performance counter stats for './driver_r_r1.py 256 2 2 4':\n",
      "\n",
      "        17,718,017 cache-misses                                                \n",
      "   241,976,859,242 instructions             \n",
      "\n",
      "     157.780398824 seconds time elapsed\n",
      "\n"
     ]
    }
   ],
   "source": [
    "! perf stat -e cache-misses,instructions ./driver_r_r1.py 256 2 2 4"
   ]
  },
  {
   "cell_type": "code",
   "execution_count": 43,
   "metadata": {
    "collapsed": false
   },
   "outputs": [
    {
     "name": "stdout",
     "output_type": "stream",
     "text": [
      "The cache efficiency is 13657.107296\n"
     ]
    }
   ],
   "source": [
    "print(\"The cache efficiency is {}\".format(241976859242./17718017.))"
   ]
  },
  {
   "cell_type": "markdown",
   "metadata": {},
   "source": [
    "**Discussion**\n",
    "\n",
    "Not much to be said, we will use it as a baseline.\n",
    "\n",
    "---\n",
    "\n",
    "### r_pr1\n",
    "\n",
    "**Description**\n",
    "\n",
    "Here we do ranges for the loops over output pixels.\n",
    "\n",
    "We do pranges for the computation of one pixel."
   ]
  },
  {
   "cell_type": "raw",
   "metadata": {},
   "source": [
    "            for k in prange(windowsize0, nogil = True, num_threads=num_thread):\n",
    "                for l in range(0, windowsize1, 8):\n",
    "                    # take local_input which will become an AVX 8-array\n",
    "                    for ii in range(8):\n",
    "                        local_input[ii] = window[k,l+ii]"
   ]
  },
  {
   "cell_type": "markdown",
   "metadata": {},
   "source": [
    "**Prediction**\n",
    "\n",
    "Here we are taking advantage of the 2 threads so it should be about twice faster (because I am using only 2 threads)."
   ]
  },
  {
   "cell_type": "code",
   "execution_count": 24,
   "metadata": {
    "collapsed": false
   },
   "outputs": [
    {
     "name": "stdout",
     "output_type": "stream",
     "text": [
      "<built-in function r_pr1>: 12.3886418343s\n",
      "\n",
      " Performance counter stats for './driver_r_pr1.py 256 2 2 4':\n",
      "\n",
      "        13,967,240 cache-misses                                                \n",
      "   124,698,915,537 instructions             \n",
      "\n",
      "      79.766505644 seconds time elapsed\n",
      "\n"
     ]
    }
   ],
   "source": [
    "! perf stat -e cache-misses,instructions ./driver_r_pr1.py 256 2 2 4"
   ]
  },
  {
   "cell_type": "code",
   "execution_count": 46,
   "metadata": {
    "collapsed": false
   },
   "outputs": [
    {
     "name": "stdout",
     "output_type": "stream",
     "text": [
      "The cache efficiency is 8927.95681445\n"
     ]
    }
   ],
   "source": [
    "print(\"The cache efficiency is {}\".format(1./13967240.*124698915537.))"
   ]
  },
  {
   "cell_type": "markdown",
   "metadata": {},
   "source": [
    "**Discussion**\n",
    "\n",
    "We see that it goes more than twice faster. We also see that the cache performance is a little worse. It is hard to tell why it is that much better.\n",
    "\n",
    "---\n",
    "\n",
    "### r_AVX1\n",
    "\n",
    "**Description**\n",
    "\n",
    "Here we do ranges for the loops over output pixels.\n",
    "\n",
    "We do pranges for the computation of one pixel and AVX implementation **using a mask when because the window is never a multiple of 8 in width**."
   ]
  },
  {
   "cell_type": "raw",
   "metadata": {},
   "source": [
    "            for k in prange(windowsize0, nogil = True, num_threads=num_thread):\n",
    "\n",
    "                AVX_y =  AVX.float_to_float8(<float> (k-lw))\n",
    "\n",
    "                for l in range(0, windowsize1, 8):\n",
    "                \n",
    "                [...code that implement AVX...]"
   ]
  },
  {
   "cell_type": "markdown",
   "metadata": {},
   "source": [
    "**Prediction**\n",
    "\n",
    "Now if we are CPU bound and if there is not too much overhead it should go 8 times faster than the previous implementation."
   ]
  },
  {
   "cell_type": "code",
   "execution_count": 42,
   "metadata": {
    "collapsed": false
   },
   "outputs": [
    {
     "name": "stdout",
     "output_type": "stream",
     "text": [
      "<built-in function r_AVX1>: 15.9948129654s\n",
      "\n",
      " Performance counter stats for './driver_r_AVX1.py 256 2 2 4':\n",
      "\n",
      "        33,212,160 cache-misses                                                \n",
      "   115,518,094,928 instructions             \n",
      "\n",
      "     107.889073329 seconds time elapsed\n",
      "\n"
     ]
    }
   ],
   "source": [
    "! perf stat -e cache-misses,instructions ./driver_r_AVX1.py 256 2 2 4"
   ]
  },
  {
   "cell_type": "code",
   "execution_count": 45,
   "metadata": {
    "collapsed": false
   },
   "outputs": [
    {
     "name": "stdout",
     "output_type": "stream",
     "text": [
      "The cache efficiency is 3478.18675232\n"
     ]
    }
   ],
   "source": [
    "print(\"The cache efficiency is {}\".format(1./33212160.*115518094928.))"
   ]
  },
  {
   "cell_type": "markdown",
   "metadata": {},
   "source": [
    "**Discussion**\n",
    "\n",
    "We see that it actually goes slower than prange. We also see that the cache performance is a little worse again. Maybe the context window needed to compute a pixel is too small to actually take benefit from AVX, the overhead are too costly. In the next section we will see more test runs and might have a better idea.\n",
    "\n",
    "---\n",
    "\n",
    "### r_r2\n",
    "\n",
    "**Description**\n",
    "\n",
    "Here we do ranges for the loops over output pixels.\n",
    "\n",
    "\n",
    "We also do ranges for the computation of one pixel. But this time we change the loading style as describe in the figure:\n",
    "![](fig7.png)\n",
    "\n",
    "This version is not as adapatable the product of sigma and truncate has to be a multiple of 8.\n",
    "\n",
    "The corresponding code is:"
   ]
  },
  {
   "cell_type": "raw",
   "metadata": {},
   "source": [
    "for k in range(pan):\n",
    "                # loop in the line in 3 part: the center\n",
    "                [...code...]\n",
    "\n",
    "                #the right part of the line (suits avx)\n",
    "\t\t\t\tfor l in range(1, lw+1, 8):\n",
    "\t\t\t\t\tfor _ in range(l,l+8):\n",
    "                    [...code to load an AVX array and compute on the right...]\n",
    "\n",
    "                #the left part of the line (suits avx)\n",
    "\t\t\t\tfor l in range(0, lw, 8):\n",
    "\t\t\t\t\tfor _ in range(l,l+8):\n",
    "                    [...code to load an AVX array and compute on the left...]\n"
   ]
  },
  {
   "cell_type": "markdown",
   "metadata": {},
   "source": [
    "Note: in this implementation (it was our first), the input picture is 9 copies of the image instead of just padding (we came with this idea afterwards).\n",
    "\n",
    "**Prediction**\n",
    "\n",
    "Here we are less flexible but we use all the data we load. The performance should be similar to the 1 design maybe a little better."
   ]
  },
  {
   "cell_type": "code",
   "execution_count": 13,
   "metadata": {
    "collapsed": false
   },
   "outputs": [
    {
     "name": "stdout",
     "output_type": "stream",
     "text": [
      "<built-in function r_r2>: 6.03676605225s\n",
      "\n",
      " Performance counter stats for './driver_r_r2.py 256 2 2 4':\n",
      "\n",
      "         5,468,232 cache-misses                                                \n",
      "    38,025,242,310 instructions             \n",
      "\n",
      "      31.897457003 seconds time elapsed\n",
      "\n"
     ]
    }
   ],
   "source": [
    "! perf stat -e cache-misses,instructions ./driver_r_r2.py 256 2 2 4"
   ]
  },
  {
   "cell_type": "code",
   "execution_count": 16,
   "metadata": {
    "collapsed": false
   },
   "outputs": [
    {
     "name": "stdout",
     "output_type": "stream",
     "text": [
      "The cache efficiency is 6953.84583353\n"
     ]
    }
   ],
   "source": [
    "print(\"The cache efficiency is {}\".format(38025242310./5468232.))"
   ]
  },
  {
   "cell_type": "markdown",
   "metadata": {
    "collapsed": true
   },
   "source": [
    "**Discussion**\n",
    "\n",
    "\n",
    "\n",
    "The following two implementations are similar incrementations as before so we won't describe not predict.\n",
    "\n",
    "---\n",
    "\n",
    "### r_pr2\n",
    "\n"
   ]
  },
  {
   "cell_type": "code",
   "execution_count": 14,
   "metadata": {
    "collapsed": false
   },
   "outputs": [
    {
     "name": "stdout",
     "output_type": "stream",
     "text": [
      "<built-in function r_pr2>: 5.70023298264s\n",
      "\n",
      " Performance counter stats for './driver_r_pr2.py 256 2 2 4':\n",
      "\n",
      "         7,068,829 cache-misses                                                \n",
      "    58,136,394,542 instructions             \n",
      "\n",
      "      36.495997363 seconds time elapsed\n",
      "\n"
     ]
    }
   ],
   "source": [
    "! perf stat -e cache-misses,instructions ./driver_r_pr2.py 256 2 2 4"
   ]
  },
  {
   "cell_type": "code",
   "execution_count": 17,
   "metadata": {
    "collapsed": false
   },
   "outputs": [
    {
     "name": "stdout",
     "output_type": "stream",
     "text": [
      "The cache efficiency is 8224.33171633\n"
     ]
    }
   ],
   "source": [
    "print(\"The cache efficiency is {}\".format(58136394542./7068829.))"
   ]
  },
  {
   "cell_type": "markdown",
   "metadata": {},
   "source": [
    "**Discussion**\n",
    "\n",
    "The performance is slightly better but not twice better. Maybe having some thread adds some overhead and also the r_r2 version is already very effective. The cache performance is a little worse.\n",
    "\n",
    "---\n",
    "\n",
    "### r_AVX2"
   ]
  },
  {
   "cell_type": "code",
   "execution_count": 15,
   "metadata": {
    "collapsed": false
   },
   "outputs": [
    {
     "name": "stdout",
     "output_type": "stream",
     "text": [
      "<built-in function r_AVX2>: 12.785807848s\n",
      "\n",
      " Performance counter stats for './driver_r_AVX2.py 256 2 2 4':\n",
      "\n",
      "        17,775,463 cache-misses                                                \n",
      "    80,883,074,937 instructions             \n",
      "\n",
      "      73.915027672 seconds time elapsed\n",
      "\n"
     ]
    }
   ],
   "source": [
    "! perf stat -e cache-misses,instructions ./driver_r_AVX2.py 256 2 2 4"
   ]
  },
  {
   "cell_type": "code",
   "execution_count": 18,
   "metadata": {
    "collapsed": false
   },
   "outputs": [
    {
     "name": "stdout",
     "output_type": "stream",
     "text": [
      "The cache efficiency is 4550.26543821\n"
     ]
    }
   ],
   "source": [
    "print(\"The cache efficiency is {}\".format(80883074937./17775463.))"
   ]
  },
  {
   "cell_type": "markdown",
   "metadata": {},
   "source": [
    "**Discussion**\n",
    "\n",
    "Here again the implementation using AVX gives worse performance (even worse than without prange!). We think it is because of overhead again. The cache efficiency is better but there are also a lot more instructions.\n",
    "\n",
    "---\n",
    "\n",
    "\n",
    "### prj_r1\n",
    "\n",
    "**Description**\n",
    "\n",
    "In this implementation, we do a prange at the level of the loop over the columns of the output image. Basically each raw is sent to threads. As you can see in the figure.\n",
    "\n",
    "The code snippet is:"
   ]
  },
  {
   "cell_type": "raw",
   "metadata": {},
   "source": [
    "    for i in range(lw, imsize0 + lw):\n",
    "        #initalize parameters afterwards there won't be GIL nor Python object\n",
    "        partial_output = np.zeros(imsize1, np.float32)\n",
    "        partial_sumg = np.zeros(imsize1, np.float32)\n",
    "\n",
    "        for j in prange(lw, imsize1 + lw, nogil = True, num_threads= num_thread):\n",
    "            [...code to compute each pixel with ranges...]"
   ]
  },
  {
   "cell_type": "markdown",
   "metadata": {},
   "source": [
    "**Prediction**\n",
    "\n",
    "This implementation seem more efficient because it gives more work per thread (the entire computation for a pixel instead of just part of it). This should have a better computation to memory movement ratio and should be better."
   ]
  },
  {
   "cell_type": "code",
   "execution_count": 29,
   "metadata": {
    "collapsed": false
   },
   "outputs": [
    {
     "name": "stdout",
     "output_type": "stream",
     "text": [
      "<built-in function prj_r1>: 8.23237800598s\n",
      "\n",
      " Performance counter stats for './driver_prj_r1.py 256 2 2 4':\n",
      "\n",
      "         7,910,879 cache-misses                                                \n",
      "    98,409,330,798 instructions             \n",
      "\n",
      "      46.866586806 seconds time elapsed\n",
      "\n"
     ]
    }
   ],
   "source": [
    "! perf stat -e cache-misses,instructions ./driver_prj_r1.py 256 2 2 4"
   ]
  },
  {
   "cell_type": "code",
   "execution_count": 19,
   "metadata": {
    "collapsed": false
   },
   "outputs": [
    {
     "name": "stdout",
     "output_type": "stream",
     "text": [
      "The cache efficiency is 12439.7466828\n"
     ]
    }
   ],
   "source": [
    "print(\"The cache efficiency is {}\".format(98409330798./7910879.))"
   ]
  },
  {
   "cell_type": "markdown",
   "metadata": {},
   "source": [
    "**Discussion**\n",
    "\n",
    "Second best cache efficiency. However it is slower than doing a range on the output pixels and a prange in the pixel computation.\n",
    "\n",
    "--- \n",
    "### prj_AVX\n",
    "\n",
    "**Description**\n",
    "\n",
    "Same as before, but not within the computation for a pixel we use AVX.\n",
    "\n",
    "**Prediction**\n",
    "\n",
    "Until now, we think that AVX's overhead has always hampered the performance. But now that there is more computation per thread AVX should be more useful. It is more similar to the case of Mandelbrot studied in Homework 2."
   ]
  },
  {
   "cell_type": "code",
   "execution_count": 30,
   "metadata": {
    "collapsed": false
   },
   "outputs": [
    {
     "name": "stdout",
     "output_type": "stream",
     "text": [
      "<built-in function prj_AVX>: 3.45617198944s\n",
      "\n",
      " Performance counter stats for './driver_prj_AVX.py 256 2 2 4':\n",
      "\n",
      "         5,707,750 cache-misses                                                \n",
      "    39,358,375,376 instructions             \n",
      "\n",
      "      22.125222766 seconds time elapsed\n",
      "\n"
     ]
    }
   ],
   "source": [
    "! perf stat -e cache-misses,instructions ./driver_prj_AVX.py 256 2 2 4"
   ]
  },
  {
   "cell_type": "code",
   "execution_count": 20,
   "metadata": {
    "collapsed": false
   },
   "outputs": [
    {
     "name": "stdout",
     "output_type": "stream",
     "text": [
      "The cache efficiency is 6895.6025362\n"
     ]
    }
   ],
   "source": [
    "print(\"The cache efficiency is {}\".format(39358375376./5707750.))"
   ]
  },
  {
   "cell_type": "markdown",
   "metadata": {},
   "source": [
    "**Discussion**\n",
    "\n",
    "Not the best performance. But lowest number of cache miss sofar. AVX makes it twice faster. We seem to have a better management of the memory and we become more CPU-bound. It matches our prediction!\n",
    "\n",
    "---\n",
    "\n",
    "### step_r1\n",
    "\n",
    "**Description**\n",
    "\n",
    "Here we do steps of 8 in the prange as in the image. There is another range within the thread. Now each thread is computing 8 output pixels so it load a slighly larger context.\n",
    "\n",
    "![](fig4.png)\n",
    "\n",
    "Nota Bene: Here we don't have AVX yet (as the image says and our AVX are 8 float32). This image was made for the next implementation but it actually also helps understanding this implementation.\n",
    "\n",
    "**Prediction**\n",
    "\n",
    "The performance should be similar to prj_r1. But now we are much more memory effective. **We load slightly larger context, but we capitalize on the overlap of the context of neighboring pixels.** There is less memory transfert and more computation per thread."
   ]
  },
  {
   "cell_type": "code",
   "execution_count": 2,
   "metadata": {
    "collapsed": false
   },
   "outputs": [
    {
     "name": "stdout",
     "output_type": "stream",
     "text": [
      "<built-in function step_r1>: 7.51852297783s\n",
      "\n",
      " Performance counter stats for './driver_step_r1.py 256 2 2 4':\n",
      "\n",
      "        10,116,808 cache-misses                                                \n",
      "    95,016,359,478 instructions             \n",
      "\n",
      "      55.154091647 seconds time elapsed\n",
      "\n"
     ]
    }
   ],
   "source": [
    "! perf stat -e cache-misses,instructions ./driver_step_r1.py 256 2 2 4"
   ]
  },
  {
   "cell_type": "code",
   "execution_count": 3,
   "metadata": {
    "collapsed": false
   },
   "outputs": [
    {
     "name": "stdout",
     "output_type": "stream",
     "text": [
      "The cache efficiency is 9391.93068387\n"
     ]
    }
   ],
   "source": [
    "print(\"The cache efficiency is {}\".format(95016359478./10116808.))"
   ]
  },
  {
   "cell_type": "markdown",
   "metadata": {},
   "source": [
    "**Discussion**\n",
    "\n",
    "The performance is indeed similar to prj_r1 but we have good hopes for the AVX implementation.\n",
    "\n",
    "---\n",
    "\n",
    "### AVX_r\n",
    "\n",
    "**Description**\n",
    "\n",
    "Instead of doing a range(8) to compute for a pixel in each thread, we do all the 8 pixel computations in parallel using AVX arrays.\n",
    "\n",
    "**Prediction**\n",
    "\n",
    "As our design is becoming ever more computation bound, AVX should be effective."
   ]
  },
  {
   "cell_type": "code",
   "execution_count": 32,
   "metadata": {
    "collapsed": false
   },
   "outputs": [
    {
     "name": "stdout",
     "output_type": "stream",
     "text": [
      "<built-in function AVX_r>: 2.16228485107s\n",
      "\n",
      " Performance counter stats for './driver_AVX_r.py 256 2 2 4':\n",
      "\n",
      "         5,902,434 cache-misses                                                \n",
      "    25,993,617,895 instructions             \n",
      "\n",
      "      14.082296152 seconds time elapsed\n",
      "\n"
     ]
    }
   ],
   "source": [
    "! perf stat -e cache-misses,instructions ./driver_AVX_r.py 256 2 2 4"
   ]
  },
  {
   "cell_type": "code",
   "execution_count": 22,
   "metadata": {
    "collapsed": false
   },
   "outputs": [
    {
     "name": "stdout",
     "output_type": "stream",
     "text": [
      "The cache efficiency is 4403.88116072\n"
     ]
    }
   ],
   "source": [
    "print(\"The cache efficiency is {}\".format(25993617895./5902434.))"
   ]
  },
  {
   "cell_type": "markdown",
   "metadata": {},
   "source": [
    "**Discussion**\n",
    "\n",
    "Here AVX proves useful! 4 times faster. We are much more compute bound. The number of cache miss is also one of the smallest which shows that we have a good management of the memory.\n",
    "\n",
    "---\n",
    "\n",
    "### mth_pr\n",
    "\n",
    "**Description**\n",
    "\n",
    "Now we create treads to send the rows. Thread i will compute for output pixels in row i modulo the number of threads.\n",
    "We also do a pranje over the rows. As this computer only has two thread it should not have much effect, however we make sure there is \"nogil = True\" that way. It is the only way to do actual multi-threading in Python.\n",
    "The image descibes the case where there are 4 threads (but we have only 2).\n",
    "\n",
    "![](fig3.png)\n",
    "\n",
    "A before, the output pixels are computed 8 by 8 using AVX\n",
    "\n",
    "**Prediction**\n",
    "\n",
    "Now we can benefit from the shared input. There won't be much of wasted time in memory movements and a lot of computation per thread. This should be our best implementation.\n",
    "\n",
    "Nota Bene: we could make the computation even more computation intensive per thread by doing a few steps of 8 per threads until the numbers of pixel per thread equals the width of the context needed to compute a pixel."
   ]
  },
  {
   "cell_type": "code",
   "execution_count": 34,
   "metadata": {
    "collapsed": false
   },
   "outputs": [
    {
     "name": "stdout",
     "output_type": "stream",
     "text": [
      "<built-in function mth_pr>: 1.3710360527s\n",
      "\n",
      " Performance counter stats for './driver_mth_pr.py 256 2 2 4':\n",
      "\n",
      "         6,121,724 cache-misses                                                \n",
      "    23,984,904,997 instructions             \n",
      "\n",
      "       9.597764980 seconds time elapsed\n",
      "\n"
     ]
    }
   ],
   "source": [
    "! perf stat -e cache-misses,instructions ./driver_mth_pr.py 256 2 2 4"
   ]
  },
  {
   "cell_type": "markdown",
   "metadata": {},
   "source": [
    "**Discussion**\n",
    "\n",
    "Best implementation with one of our lowest number of cache-misses."
   ]
  },
  {
   "cell_type": "markdown",
   "metadata": {},
   "source": [
    "---\n",
    "\n",
    "---\n",
    "\n",
    "\n",
    "\n",
    "# Benchmarking performances\n",
    "\n",
    "We apply our algorithm to randomly generated pictures of varying pixel size. The parameters we change are the size of the picture. The value for the truncating variable, which determines the size of the window that we need for the computation of one pixel."
   ]
  },
  {
   "cell_type": "markdown",
   "metadata": {},
   "source": [
    "**Load functions**\n",
    "\n",
    "You can see the code in the .pyx files."
   ]
  },
  {
   "cell_type": "code",
   "execution_count": 3,
   "metadata": {
    "collapsed": false
   },
   "outputs": [],
   "source": [
    "from r_r1 import * \n",
    "from r_pr1 import * \n",
    "from r_AVX1 import * \n",
    "from r_r2 import * \n",
    "from r_pr2 import * \n",
    "from r_AVX2 import * \n",
    "from prj_r1 import * \n",
    "from prj_AVX import * \n",
    "from step_r1 import * \n",
    "from AVX_r import * \n",
    "from mth_pr import *\n",
    "\n",
    "from timefunction import time_update\n",
    "\n",
    "import pandas as pd"
   ]
  },
  {
   "cell_type": "markdown",
   "metadata": {},
   "source": [
    "## **Benchmark when we vary the size of the image**\n",
    "\n",
    "Nota Bene, we do not use the designs corresponding to r_r2, r_pr2, r_AVX2. Because these implementation of the bilateral filters are the only ones that don't take the same image input as the others. But this design will be benchmarked in our Gaussian filter validation section thereafter.\n",
    "\n",
    "We print and plot the data. The print is for us in order to monitor how the computation evolves."
   ]
  },
  {
   "cell_type": "code",
   "execution_count": 71,
   "metadata": {
    "collapsed": false
   },
   "outputs": [
    {
     "name": "stdout",
     "output_type": "stream",
     "text": [
      "<built-in function r_r1>\n",
      "<built-in function r_r1>: 0.0308499336243s\n",
      "<built-in function r_r1>: 0.119443893433s\n",
      "<built-in function r_r1>: 0.480322122574s\n",
      "<built-in function r_r1>: 1.92615699768s\n",
      "<built-in function r_r1>: 7.7196559906s\n",
      "<built-in function r_r1>: 30.83821702s\n",
      "<built-in function r_r1>: 125.091391087s\n",
      "<built-in function r_pr1>\n",
      "<built-in function r_pr1>: 0.00864005088806s\n",
      "<built-in function r_pr1>: 0.0348901748657s\n",
      "<built-in function r_pr1>: 0.137650966644s\n",
      "<built-in function r_pr1>: 0.551414966583s\n",
      "<built-in function r_pr1>: 2.29449009895s\n",
      "<built-in function r_pr1>: 9.439702034s\n",
      "<built-in function r_pr1>: 37.9290239811s\n",
      "<built-in function r_AVX1>\n",
      "<built-in function r_AVX1>: 0.0107929706573s\n",
      "<built-in function r_AVX1>: 0.0429940223694s\n",
      "<built-in function r_AVX1>: 0.168313026428s\n",
      "<built-in function r_AVX1>: 0.708734989166s\n",
      "<built-in function r_AVX1>: 2.93402218819s\n",
      "<built-in function r_AVX1>: 11.8118729591s\n",
      "<built-in function r_AVX1>: 47.2310349941s\n",
      "<built-in function prj_r1>\n",
      "<built-in function prj_r1>: 0.00987195968628s\n",
      "<built-in function prj_r1>: 0.0349149703979s\n",
      "<built-in function prj_r1>: 0.123945951462s\n",
      "<built-in function prj_r1>: 0.48601603508s\n",
      "<built-in function prj_r1>: 1.98348903656s\n",
      "<built-in function prj_r1>: 7.90050411224s\n",
      "<built-in function prj_r1>: 31.3461251259s\n",
      "<built-in function prj_AVX>\n",
      "<built-in function prj_AVX>: 0.00494694709778s\n",
      "<built-in function prj_AVX>: 0.0152640342712s\n",
      "<built-in function prj_AVX>: 0.0516757965088s\n",
      "<built-in function prj_AVX>: 0.22774887085s\n",
      "<built-in function prj_AVX>: 0.784885883331s\n",
      "<built-in function prj_AVX>: 3.22164392471s\n",
      "<built-in function prj_AVX>: 12.6170480251s\n",
      "<built-in function step_r1>\n",
      "<built-in function step_r1>: 0.014014005661s\n",
      "<built-in function step_r1>: 0.0317940711975s\n",
      "<built-in function step_r1>: 0.114221811295s\n",
      "<built-in function step_r1>: 0.455534934998s\n",
      "<built-in function step_r1>: 1.86949896812s\n",
      "<built-in function step_r1>: 7.44261097908s\n",
      "<built-in function step_r1>: 29.6508691311s\n",
      "<built-in function AVX_r>\n",
      "<built-in function AVX_r>: 0.00310492515564s\n",
      "<built-in function AVX_r>: 0.01442694664s\n",
      "<built-in function AVX_r>: 0.0355441570282s\n",
      "<built-in function AVX_r>: 0.122273921967s\n",
      "<built-in function AVX_r>: 0.472528934479s\n",
      "<built-in function AVX_r>: 2.01278591156s\n",
      "<built-in function AVX_r>: 7.76574683189s\n",
      "<built-in function mth_pr>\n",
      "<built-in function mth_pr>: 0.00729012489319s\n",
      "<built-in function mth_pr>: 0.013484954834s\n",
      "<built-in function mth_pr>: 0.0313198566437s\n",
      "<built-in function mth_pr>: 0.0844399929047s\n",
      "<built-in function mth_pr>: 0.366549968719s\n",
      "<built-in function mth_pr>: 1.21009898186s\n",
      "<built-in function mth_pr>: 4.80476593971s\n"
     ]
    }
   ],
   "source": [
    "functions = [r_r1,r_pr1,r_AVX1,prj_r1,prj_AVX,step_r1,AVX_r,mth_pr]\n",
    "\n",
    "th = [None,2,2,2,2,2,2,2]\n",
    "\n",
    "truncate = 4\n",
    "sigma_r = 2\n",
    "sigma_s = 2\n",
    "\n",
    "assert len(functions) == len(th)\n",
    "\n",
    "iters = 10\n",
    "im_sizes = [2**k for k in range(3,iters)] \n",
    "\n",
    "\n",
    "times = [[0 for im_size in im_sizes] for fn in functions]\n",
    "\n",
    "\n",
    "for k, fn in enumerate(functions):\n",
    "    print str(fn)\n",
    "    for l,im_size in enumerate(im_sizes):\n",
    "        lw = (max(sigma_r, sigma_s)*truncate)\n",
    "\n",
    "        #create picture\n",
    "        picture = np.random.random((im_size, im_size))\n",
    "        \n",
    "        #preprocess\n",
    "        imsize = np.shape(picture)\n",
    "        input_im = np.zeros((lw + imsize[0] + lw, lw + imsize[1] + lw + 8 - (2 * lw + 1) % 8))\n",
    "        input_im[:(lw + imsize[0] + lw), :(lw + imsize[1] + lw)] = np.pad(picture, ((lw, lw), (lw, lw)), mode = 'reflect')\n",
    "\n",
    "        #time\n",
    "        times[k][l] = time_update(fn, truncate, imsize, picture, input_im, sigma_r, sigma_s, lw, th[k])\n",
    "        \n",
    "df = pd.DataFrame(times, dtype = float)\n",
    "df.to_csv('times.csv', index=False)"
   ]
  },
  {
   "cell_type": "markdown",
   "metadata": {},
   "source": [
    "**Plot the results**"
   ]
  },
  {
   "cell_type": "code",
   "execution_count": 83,
   "metadata": {
    "collapsed": false
   },
   "outputs": [
    {
     "data": {
      "text/plain": [
       "<matplotlib.legend.Legend at 0x7fb2fb803b90>"
      ]
     },
     "execution_count": 83,
     "metadata": {},
     "output_type": "execute_result"
    },
    {
     "data": {
      "image/png": "[encoded data removed]",
      "text/plain": [
       "<matplotlib.figure.Figure at 0x7fb2fb803b50>"
      ]
     },
     "metadata": {},
     "output_type": "display_data"
    }
   ],
   "source": [
    "functions = [r_r1,r_pr1,r_AVX1,prj_r1,prj_AVX,step_r1,AVX_r,mth_pr]\n",
    "for k in range(len(functions)):\n",
    "    plt.plot(im_sizes,times[:][k], \"o-\", label = \"{}\".format(str(functions[k])[19:-1]))\n",
    "plt.legend(loc=\"best\")"
   ]
  },
  {
   "cell_type": "markdown",
   "metadata": {},
   "source": [
    "**Discussion**\n",
    "\n",
    "The result from this benchmark is actually not that exciting. We see the O($n^2$) complexity of the double for loop for the pixels. The ranking remains unchanged for the different methods.\n",
    "\n",
    "The implementation r_r1 remains the slowest.\n",
    "\n",
    "prj_r1 and step_r1 still have very similar performances.\n",
    "\n",
    "mth_pr remains the best."
   ]
  },
  {
   "cell_type": "markdown",
   "metadata": {},
   "source": [
    "---\n",
    "\n",
    "---\n",
    "\n",
    "## **Benchmark when we vary the truncation parameter**"
   ]
  },
  {
   "cell_type": "code",
   "execution_count": 75,
   "metadata": {
    "collapsed": false
   },
   "outputs": [
    {
     "name": "stdout",
     "output_type": "stream",
     "text": [
      "<built-in function r_r1>\n",
      "<built-in function r_r1>: 1.00942111015s\n",
      "<built-in function r_r1>: 2.71262311935s\n",
      "<built-in function r_r1>: 4.28363919258s\n",
      "<built-in function r_r1>: 7.67832303047s\n",
      "<built-in function r_r1>: 10.2861511707s\n",
      "<built-in function r_r1>: 15.4190070629s\n",
      "<built-in function r_r1>: 18.9899201393s\n",
      "<built-in function r_r1>: 25.7774009705s\n",
      "<built-in function r_r1>: 30.3871181011s\n",
      "<built-in function r_r1>: 39.8323748112s\n",
      "<built-in function r_pr1>\n",
      "<built-in function r_pr1>: 0.727787017822s\n",
      "<built-in function r_pr1>: 1.25052905083s\n",
      "<built-in function r_pr1>: 1.97246098518s\n",
      "<built-in function r_pr1>: 2.81269001961s\n",
      "<built-in function r_pr1>: 4.19944095612s\n",
      "<built-in function r_pr1>: 5.64744305611s\n",
      "<built-in function r_pr1>: 7.49790596962s\n",
      "<built-in function r_pr1>: 9.45620512962s\n",
      "<built-in function r_pr1>: 11.5738730431s\n",
      "<built-in function r_pr1>: 11.4540829659s\n",
      "<built-in function r_AVX1>\n",
      "<built-in function r_AVX1>: 2.23056697845s\n",
      "<built-in function r_AVX1>: 2.43670678139s\n",
      "<built-in function r_AVX1>: 2.49290180206s\n",
      "<built-in function r_AVX1>: 2.85974001884s\n",
      "<built-in function r_AVX1>: 2.94967198372s\n",
      "<built-in function r_AVX1>: 3.4756000042s\n",
      "<built-in function r_AVX1>: 3.60385084152s\n",
      "<built-in function r_AVX1>: 4.10850811005s\n",
      "<built-in function r_AVX1>: 4.37557792664s\n",
      "<built-in function r_AVX1>: 5.06334805489s\n",
      "<built-in function prj_r1>\n",
      "<built-in function prj_r1>: 0.267158031464s\n",
      "<built-in function prj_r1>: 0.812899112701s\n",
      "<built-in function prj_r1>: 1.43784999847s\n",
      "<built-in function prj_r1>: 2.18702292442s\n",
      "<built-in function prj_r1>: 2.96918392181s\n",
      "<built-in function prj_r1>: 4.36762714386s\n",
      "<built-in function prj_r1>: 5.70812487602s\n",
      "<built-in function prj_r1>: 7.30262303352s\n",
      "<built-in function prj_r1>: 9.01559996605s\n",
      "<built-in function prj_r1>: 11.503620863s\n",
      "<built-in function prj_AVX>\n",
      "<built-in function prj_AVX>: 0.104161024094s\n",
      "<built-in function prj_AVX>: 0.406738996506s\n",
      "<built-in function prj_AVX>: 0.598706007004s\n",
      "<built-in function prj_AVX>: 1.11708307266s\n",
      "<built-in function prj_AVX>: 1.29434609413s\n",
      "<built-in function prj_AVX>: 2.08818602562s\n",
      "<built-in function prj_AVX>: 2.37378311157s\n",
      "<built-in function prj_AVX>: 3.04815411568s\n",
      "<built-in function prj_AVX>: 3.39984107018s\n",
      "<built-in function prj_AVX>: 4.69012093544s\n",
      "<built-in function step_r1>\n",
      "<built-in function step_r1>: 0.171303033829s\n",
      "<built-in function step_r1>: 0.517931938171s\n",
      "<built-in function step_r1>: 1.08135199547s\n",
      "<built-in function step_r1>: 1.92657899857s\n",
      "<built-in function step_r1>: 2.88908410072s\n",
      "<built-in function step_r1>: 4.08901500702s\n",
      "<built-in function step_r1>: 5.71895599365s\n",
      "<built-in function step_r1>: 6.81427407265s\n",
      "<built-in function step_r1>: 8.46293210983s\n",
      "<built-in function step_r1>: 10.9889340401s\n",
      "<built-in function AVX_r>\n",
      "<built-in function AVX_r>: 0.0543930530548s\n",
      "<built-in function AVX_r>: 0.15854716301s\n",
      "<built-in function AVX_r>: 0.225079059601s\n",
      "<built-in function AVX_r>: 0.44084405899s\n",
      "<built-in function AVX_r>: 0.599265098572s\n",
      "<built-in function AVX_r>: 1.04692482948s\n",
      "<built-in function AVX_r>: 1.97318911552s\n",
      "<built-in function AVX_r>: 1.86263418198s\n",
      "<built-in function AVX_r>: 1.76784610748s\n",
      "<built-in function AVX_r>: 2.17556500435s\n",
      "<built-in function mth_pr>\n",
      "<built-in function mth_pr>: 0.0505149364471s\n",
      "<built-in function mth_pr>: 0.127151012421s\n",
      "<built-in function mth_pr>: 0.192861795425s\n",
      "<built-in function mth_pr>: 0.3336789608s\n",
      "<built-in function mth_pr>: 0.457993030548s\n",
      "<built-in function mth_pr>: 0.749694824219s\n",
      "<built-in function mth_pr>: 0.749529838562s\n",
      "<built-in function mth_pr>: 1.08796095848s\n",
      "<built-in function mth_pr>: 1.4410340786s\n",
      "<built-in function mth_pr>: 1.52444601059s\n"
     ]
    }
   ],
   "source": [
    "functions = [r_r1,r_pr1,r_AVX1,prj_r1,prj_AVX,step_r1,AVX_r,mth_pr]\n",
    "\n",
    "th = [None,2,2,2,2,2,2,2]\n",
    "iters = 11\n",
    "truncates = [k for k in range(1,iters)]\n",
    "sigma_r = 2\n",
    "sigma_s = 2\n",
    "im_size = 128\n",
    "\n",
    "assert len(functions) == len(th)\n",
    "\n",
    "times2 = [[0 for k in truncates] for fn in functions]\n",
    "\n",
    "\n",
    "for k, fn in enumerate(functions):\n",
    "    print str(fn)\n",
    "    for l,truncate in enumerate(truncates):\n",
    "        lw = (max(sigma_r, sigma_s)*truncate)\n",
    "\n",
    "        #create picture\n",
    "        picture = np.random.random((im_size, im_size))\n",
    "        \n",
    "        #preprocess\n",
    "        imsize = np.shape(picture)\n",
    "        input_im = np.zeros((lw + imsize[0] + lw, lw + imsize[1] + lw + 8 - (2 * lw + 1) % 8))\n",
    "        input_im[:(lw + imsize[0] + lw), :(lw + imsize[1] + lw)] = np.pad(picture, ((lw, lw), (lw, lw)), mode = 'reflect')\n",
    "\n",
    "        #time\n",
    "        times2[k][l] = time_update(fn, truncate, imsize, picture, input_im, sigma_r, sigma_s, lw, th[k])\n",
    "        \n",
    "df2 = pd.DataFrame(times2, dtype = float)\n",
    "df2.to_csv('times2.csv', index=False)"
   ]
  },
  {
   "cell_type": "markdown",
   "metadata": {},
   "source": [
    "**Plot the results**"
   ]
  },
  {
   "cell_type": "code",
   "execution_count": 79,
   "metadata": {
    "collapsed": false
   },
   "outputs": [
    {
     "data": {
      "text/plain": [
       "<matplotlib.legend.Legend at 0x7fb2fbc43450>"
      ]
     },
     "execution_count": 79,
     "metadata": {},
     "output_type": "execute_result"
    },
    {
     "data": {
      "image/png": "[encoded data removed]",
      "text/plain": [
       "<matplotlib.figure.Figure at 0x7fb2fbc43650>"
      ]
     },
     "metadata": {},
     "output_type": "display_data"
    }
   ],
   "source": [
    "for k in range(len(functions)):\n",
    "    plt.plot(truncates,times2[:][k],  \"o-\", label = \"{}\".format(str(functions[k])[19:-1]))\n",
    "plt.legend(loc=\"best\")"
   ]
  },
  {
   "cell_type": "markdown",
   "metadata": {},
   "source": [
    "**Discussion**\n",
    "\n",
    "We see that r_AVX1 becomes much better than r_r1 and r_pr1. Our assumption that this function was not performing well because the window  - needed to compute one output pixel - was too small and that overhead was hampering the performance seems to be correct.\n",
    "\n",
    "The rest stays more or less the same. r_pr1 is sort of plateauing at a truncate number equals 10, but it is hard to tell with only one data point."
   ]
  },
  {
   "cell_type": "markdown",
   "metadata": {},
   "source": [
    "---\n",
    "\n",
    "---\n",
    "\n",
    "## **Benchmark when we vary the truncation parameter**"
   ]
  },
  {
   "cell_type": "code",
   "execution_count": 12,
   "metadata": {
    "collapsed": false
   },
   "outputs": [
    {
     "name": "stdout",
     "output_type": "stream",
     "text": [
      "<built-in function r_pr1>\n",
      "<built-in function r_pr1>: 0.441732883453s\n",
      "<built-in function r_pr1>: 0.377553939819s\n",
      "<built-in function r_pr1>: 0.367692947388s\n",
      "<built-in function r_pr1>: 0.372321128845s\n",
      "<built-in function r_pr1>: 0.403692007065s\n",
      "<built-in function r_pr1>: 0.428772211075s\n",
      "<built-in function r_pr1>: 0.452977180481s\n",
      "<built-in function prj_r1>\n",
      "<built-in function prj_r1>: 0.369469165802s\n",
      "<built-in function prj_r1>: 0.240805864334s\n",
      "<built-in function prj_r1>: 0.202591896057s\n",
      "<built-in function prj_r1>: 0.181882143021s\n",
      "<built-in function prj_r1>: 0.195593118668s\n",
      "<built-in function prj_r1>: 0.179741859436s\n",
      "<built-in function prj_r1>: 0.167356014252s\n",
      "<built-in function prj_AVX>\n",
      "<built-in function prj_AVX>: 0.25238609314s\n",
      "<built-in function prj_AVX>: 0.554149866104s\n",
      "<built-in function prj_AVX>: 0.435288906097s\n",
      "<built-in function prj_AVX>: 0.430124998093s\n",
      "<built-in function prj_AVX>: 0.393033027649s\n",
      "<built-in function prj_AVX>: 0.358952999115s\n",
      "<built-in function prj_AVX>: 0.339886903763s\n",
      "<built-in function step_r1>\n",
      "<built-in function step_r1>: 0.357926130295s\n",
      "<built-in function step_r1>: 0.229172945023s\n",
      "<built-in function step_r1>: 0.201018095016s\n",
      "<built-in function step_r1>: 0.170951128006s\n",
      "<built-in function step_r1>: 0.176326036453s\n",
      "<built-in function step_r1>: 0.175708055496s\n",
      "<built-in function step_r1>: 0.175266981125s\n",
      "<built-in function AVX_r>\n",
      "<built-in function AVX_r>: 0.0695459842682s\n",
      "<built-in function AVX_r>: 0.516597032547s\n",
      "<built-in function AVX_r>: 0.400372028351s\n",
      "<built-in function AVX_r>: 0.419740915298s\n",
      "<built-in function AVX_r>: 0.36585688591s\n",
      "<built-in function AVX_r>: 0.35274720192s\n",
      "<built-in function AVX_r>: 0.344867944717s\n",
      "<built-in function mth_pr>\n",
      "<built-in function mth_pr>: 0.0644528865814s\n",
      "<built-in function mth_pr>: 0.228364944458s\n",
      "<built-in function mth_pr>: 0.12415599823s\n",
      "<built-in function mth_pr>: 0.118851184845s\n",
      "<built-in function mth_pr>: 0.134289979935s\n",
      "<built-in function mth_pr>: 0.157013893127s\n",
      "<built-in function mth_pr>: 0.164360046387s\n"
     ]
    }
   ],
   "source": [
    "functions = [r_pr1,prj_r1,prj_AVX,step_r1,AVX_r,mth_pr]\n",
    "\n",
    "\n",
    "iters = 8\n",
    "threads = [k for k in range(1,iters)]\n",
    "sigma_r = 2\n",
    "sigma_s = 2\n",
    "im_size = 128\n",
    "\n",
    "\n",
    "times3 = [[0 for k in threads] for fn in functions]\n",
    "\n",
    "truncate = 4\n",
    "for k, fn in enumerate(functions):\n",
    "    print str(fn)\n",
    "    for l,thread in enumerate(threads):\n",
    "        lw = (max(sigma_r, sigma_s)*truncate)\n",
    "\n",
    "        th = [thread,thread,thread,thread,thread,thread]\n",
    "        #create picture\n",
    "        picture = np.random.random((im_size, im_size))\n",
    "        \n",
    "        #preprocess\n",
    "        imsize = np.shape(picture)\n",
    "        input_im = np.zeros((lw + imsize[0] + lw, lw + imsize[1] + lw + 8 - (2 * lw + 1) % 8))\n",
    "        input_im[:(lw + imsize[0] + lw), :(lw + imsize[1] + lw)] = np.pad(picture, ((lw, lw), (lw, lw)), mode = 'reflect')\n",
    "\n",
    "        #time\n",
    "        times3[k][l] = time_update(fn, truncate, imsize, picture, input_im, sigma_r, sigma_s, lw, th[k])\n",
    "\n",
    "        "
   ]
  },
  {
   "cell_type": "code",
   "execution_count": 13,
   "metadata": {
    "collapsed": false
   },
   "outputs": [],
   "source": [
    "df2 = pd.DataFrame(times3, dtype = float)\n",
    "df2.to_csv('times3.csv', index=False)"
   ]
  },
  {
   "cell_type": "code",
   "execution_count": 14,
   "metadata": {
    "collapsed": false
   },
   "outputs": [
    {
     "data": {
      "text/plain": [
       "<matplotlib.legend.Legend at 0x10c5c7190>"
      ]
     },
     "execution_count": 14,
     "metadata": {},
     "output_type": "execute_result"
    },
    {
     "data": {
      "image/png": "[encoded data removed]",
      "text/plain": [
       "<matplotlib.figure.Figure at 0x10dd60250>"
      ]
     },
     "metadata": {},
     "output_type": "display_data"
    }
   ],
   "source": [
    "%matplotlib inline\n",
    "for k in range(len(functions)):\n",
    "    plt.plot(threads,times3[:][k],  \"o-\", label = \"{}\".format(str(functions[k])[19:-1]))\n",
    "plt.legend(loc=\"best\")"
   ]
  },
  {
   "cell_type": "markdown",
   "metadata": {},
   "source": [
    "**Discussion**\n",
    "\n",
    "NB: those results have been run on a machine with 8 physical threads.\n",
    "\n",
    "We actually see that when we go from serial to 2 threads, the performance decrease for prj_AVX, AVX_t and mth_pr. The surprising result is that step_r1 and prj_r1 does not seem to have the same performence decrease whereas they have the same design. The only difference is that the 3 function that have a decrease in performence also use AVX. So we think that AVX+thread creates too much overhead to be profitable.\n",
    "\n",
    "For AVX, performence start to re-increase but never get as good as with only one thread. We conclude from this that it is better to run either mutlithreaded code or AVX but not both for a small number of threads. This might be related to the hardware.\n",
    "\n",
    "step_r1 and prj_r1 still have a very similar behavious which is consistent with the previous results. They get better as the number of threads increase. Though the marginal performance increase is diminishing with the number of threads, probably due to the overhead caused by a higer number of threads.\n",
    "\n",
    "r_pr1 seem to reach an optimum with 3 threads after the overhead caused by a new thread decreases more the performence than the suplementary thread increases it. \n"
   ]
  },
  {
   "cell_type": "markdown",
   "metadata": {},
   "source": [
    "# 4. Gaussian filter\n",
    "\n",
    "Here we implement most of the previously developped parallelized algorithm to the simple Gaussian filter. In this case the filtered image satisfies the convolution\n",
    "\n",
    "$$ C_{i,j} = \\sum_{m=0}^{2 l_w} \\sum_{n=0}^{2 lw} K_{m,n} \\, I_{i-lw + m, j-l_w+n},$$\n",
    "\n",
    "where $C_{i,j}$ is the filtered image. $i$ and $j$ are the indices of the pixels in the image, K_{m,n} is the Gaussian Kernel and $I_{i,j}$ is the input image. The Gaussian kernel is defined as\n",
    "\n",
    "$$ K_{m,n} = \\frac{1}{\\sqrt{2 \\pi \\sigma} }  \\exp \\left( \\frac{||(m,n) - (i,j)||_2}{2 \\sigma^2}  \\right)$$\n",
    "\n",
    "The purpose of this section is to compare our implementation to the scipy implementation.\n",
    "\n",
    "\n",
    "Here is the class we developped that allows to apply a Gaussian filter with various implementation. We first take the image and pad it with various methods that are already implemented in scipy: reflect, nearest, constant and wrap. The description of all padding method is:\n",
    "\n",
    "\n",
    "    mode       |   Ext   |         Input          |   Ext\n",
    "    -----------+---------+------------------------+---------\n",
    "    'reflect'  | 3  2  1 | 1  2  3  4  5  6  7  8 | 8  7  6 \n",
    "    'nearest'  | 1  1  1 | 1  2  3  4  5  6  7  8 | 8  8  8\n",
    "    'constant' | 0  0  0 | 1  2  3  4  5  6  7  8 | 0  0  0\n",
    "    'wrap'     | 6  7  8 | 1  2  3  4  5  6  7  8 | 1  2  3  \n",
    "    \n",
    "In this case the kernel can be precomputed before defining the window. The kernel will be the same for every pixel -- this is different from the bilateral filter implementation. Here we have 4 different implementations. They all loop over $i$ and $j$ in serial. For each pixel, the window is assembled. The size of the window is [2* lw + 1, 2* lw + 1]. The convolution of the window with the kernel is implemented in 4 different ways:\n",
    "\n",
    "1/ a simple python implementation of the convolution using numpy.sum(window*kernel) called by the method __filter_python__. \n",
    "\n",
    "2/ a cython implementation of the convolution using a \"prange\" for the loop over the rows called __filter_cython__. \n",
    "\n",
    "3/ an AVX implementation following the procedure shown in this figure."
   ]
  },
  {
   "cell_type": "code",
   "execution_count": 16,
   "metadata": {
    "collapsed": false
   },
   "outputs": [
    {
     "data": {
      "text/html": [
       "<img src=\"./fig7.png\" width=800 height=800/>"
      ],
      "text/plain": [
       "<IPython.core.display.HTML object>"
      ]
     },
     "execution_count": 16,
     "metadata": {},
     "output_type": "execute_result"
    }
   ],
   "source": [
    "from IPython.display import HTML \n",
    "HTML('<img src=\"./fig7.png\" width=800 height=800/>') "
   ]
  },
  {
   "cell_type": "markdown",
   "metadata": {},
   "source": [
    "For each row, AVX loads 8 adjacent pixels of 32 bits of window and kernel. The middle column is not loaded. The loop over the rows in done using a __prange__. The method is called __filter_AVX__ \n",
    "\n",
    "4/ a multithreaded implementation. Each thread is takes care of one row of the input image. Thread 1 takes care of the first row, thread 2 takes care of the 2nd row, thread 3 of the 3r row, thread 4 of the 4th row and then thread 1 continues with row 5th etc (see figure below). The function is called __filter_cython_threading__."
   ]
  },
  {
   "cell_type": "code",
   "execution_count": 17,
   "metadata": {
    "collapsed": false
   },
   "outputs": [
    {
     "data": {
      "text/html": [
       "<img src=\"./fig3.png\" width=400 height=400/>"
      ],
      "text/plain": [
       "<IPython.core.display.HTML object>"
      ]
     },
     "execution_count": 17,
     "metadata": {},
     "output_type": "execute_result"
    }
   ],
   "source": [
    "HTML('<img src=\"./fig3.png\" width=400 height=400/>') "
   ]
  },
  {
   "cell_type": "markdown",
   "metadata": {},
   "source": [
    "The code is shown in the cell below but won't run because of AVX implementation not supported in ipython notebook."
   ]
  },
  {
   "cell_type": "code",
   "execution_count": null,
   "metadata": {
    "collapsed": true
   },
   "outputs": [],
   "source": [
    "'''\n",
    "Here is the class Gaussianfilter2D\n",
    "\n",
    "''' \n",
    "class Gaussianfilter2D():\n",
    "    '''\n",
    "    2D gaussian filter on Black and White images\n",
    "\n",
    "    The filter image satisfies the relation\n",
    "    $$ C_{i,j} = \\sum_{m=0}^{2 l_w} \\sum_{n=0}^{2 lw} = K_{m,n} \\, I_{i-lw + m, j-l_w+n}$$\n",
    "    where C is the new image, K the gaussian kernel and I the original image\n",
    "\n",
    "    Parameters\n",
    "\n",
    "    ----------\n",
    "\n",
    "    sigma : float\n",
    "\n",
    "        standard deviation for the gaussian filter\n",
    "\n",
    "    truncate : float, optional\n",
    "\n",
    "        truncate the filter at this many standard deviations\n",
    "        Default is 4.0\n",
    "\n",
    "\n",
    "    mode : here are the various mode supported by the class\n",
    "\n",
    "    mode       |   Ext   |         Input          |   Ext\n",
    "    -----------+---------+------------------------+---------\n",
    "    'reflect'  | 3  2  1 | 1  2  3  4  5  6  7  8 | 8  7  6 \n",
    "    'nearest'  | 1  1  1 | 1  2  3  4  5  6  7  8 | 8  8  8\n",
    "    'constant' | 0  0  0 | 1  2  3  4  5  6  7  8 | 0  0  0\n",
    "    'wrap'     | 6  7  8 | 1  2  3  4  5  6  7  8 | 1  2  3    \n",
    "\n",
    "\n",
    "    Attributes\n",
    "\n",
    "    ----------   \n",
    "\n",
    "    kernel_ : 2d-array\n",
    "\n",
    "        this is the 2D gaussian filter kernel used in the convolution\n",
    "        with the provided image\n",
    "\n",
    "    image_benchmark_: 2d-array\n",
    "\n",
    "        this is the image filtered with the 2D gaussian filter provided\n",
    "        by the scipy library\n",
    "\n",
    "    run_time_benchmark_: float\n",
    "\n",
    "        this is the run time of the 2D gaussian filter provied by the\n",
    "        scipy library\n",
    "\n",
    "    image_: 2d-array\n",
    "\n",
    "        this is the image filtered by the 2D gaussian filter implemented in \n",
    "        python\n",
    "\n",
    "    run_time_: float\n",
    "\n",
    "        this is the run time of the 2D gaussian filter implemented in python\n",
    "\n",
    "    error_ : float\n",
    "\n",
    "        this is the norm-2 error of the python function compared with the scipy\n",
    "        function\n",
    "\n",
    "    '''\n",
    "    def __init__(self, sigma, truncate = 4.0 , mode = 'reflect', cval = 0.0,\n",
    "                    num_threads = 4):\n",
    "\n",
    "\n",
    "        self.sigma = sigma\n",
    "        self.truncate = truncate\n",
    "        self.mode = mode\n",
    "        self.cval = cval\n",
    "        self.num_threads = num_threads\n",
    "\n",
    "\n",
    "        # lw is the number of adjacent pixels on both sides to consider in 1D\n",
    "        # when using the filter \n",
    "        self.lw = int(truncate*sigma+0.5)   \n",
    "\n",
    "\n",
    "    @property\n",
    "    # this is read only\n",
    "    def kernel_(self):\n",
    "\n",
    "        '''\n",
    "        this function generates the Gaussianfilter2D kernel\n",
    "        '''\n",
    "\n",
    "        # initialize the size of the gaussian kernel\n",
    "        # kernel size: pan * pan (33 * 33 when truncate = 4.0 and sigma = 4.0)\n",
    "        self._kernel = np.zeros((2 * self.lw + 1,2 * self.lw +1 ))\n",
    "\n",
    "        # find the distance to the center of all pixels in the kernel\n",
    "        for i in range(0,self.lw+1):\n",
    "            for j in range(0,self.lw+1):\n",
    "                # pixel at the center the distance is 0\n",
    "                if i == 0 and j ==0:\n",
    "                    self._kernel[self.lw,self.lw] = 0\n",
    "                # the other pixels in the kernel\n",
    "                else:\n",
    "                    self._kernel[i+self.lw,j+self.lw] = np.linalg.norm([i,j])**2\n",
    "                    self._kernel[-i+self.lw,-j+self.lw] = np.linalg.norm([i,j])**2\n",
    "                    self._kernel[-i+self.lw,j+self.lw] = np.linalg.norm([i,j])**2\n",
    "                    self._kernel[i+self.lw,-j+self.lw] = np.linalg.norm([i,j])**2\n",
    "                \n",
    "        # compute the gaussian kernel\n",
    "        self._kernel *= -.5/self.sigma**2\n",
    "        self._kernel = np.exp(self._kernel)\n",
    "        self._kernel /= 2*np.pi * self.sigma**2\n",
    "        self._kernel /= np.sum(self._kernel)\n",
    "\n",
    "        return self._kernel\n",
    "\n",
    "    def filter_scipy(self, f ):\n",
    "        start = time.time()\n",
    "        self.image_benchmark_ = gaussian_filter(f,self.sigma , mode = self.mode, cval = self.cval )\n",
    "        self.run_time_benchmark_ = time.time() - start\n",
    "        return self.image_benchmark_, self.run_time_benchmark_\n",
    "\n",
    "    def _python_convolution(self, lx, ly, image):\n",
    "\n",
    "        # convolution with the gaussian kernel for filtering\n",
    "        for i in range(0 , lx ):\n",
    "            for j in range(0 , ly ):\n",
    "                window = image[i : i + 2*self.lw + 1, j: j + 2*self.lw + 1]\n",
    "                self.image_[i , j]= np.sum(window*self._kernel)\n",
    "        return self.image_\n",
    "\n",
    "    def _return_cython_convolution(self, lx, ly, image):\n",
    "\n",
    "        # convolution using the Gaussian kernel\n",
    "\n",
    "        # initialize for cython\n",
    "        image_in = np.array(image, dtype = np.float32)\n",
    "        image_out = np.zeros((lx,ly), dtype = np.float32)\n",
    "        kernel = np.array(self._kernel, dtype = np.float32)\n",
    "        _cython_convolution(self.lw, lx, ly, image_in, image_out, kernel, self.num_threads)\n",
    "\n",
    "        self.image_ = image_out\n",
    "\n",
    "        return self.image_  \n",
    "\n",
    "        \n",
    "    def _return_AVX_cython_convolution(self, lx, ly, image):\n",
    "\n",
    "        # convolution using the Gaussian kernel\n",
    "\n",
    "        # initialize for cython\n",
    "        image_in = np.array(image, dtype = np.float32)\n",
    "        image_out = np.zeros((lx,ly), dtype = np.float32)\n",
    "        kernel = np.array(self._kernel, dtype = np.float32)\n",
    "        _AVX_cython_convolution(self.lw, lx, ly, image_in, image_out, kernel, self.num_threads)\n",
    "\n",
    "        self.image_ = image_out\n",
    "\n",
    "        return self.image_\n",
    "\n",
    "    def filter_AVX(self,f):\n",
    "\n",
    "\n",
    "        start = time.time()\n",
    "        self.image_ = f * 0.0\n",
    "        lx, ly = f.shape\n",
    "        # create the gaussian filter kernel\n",
    "        self._kernel = self.kernel_\n",
    "\n",
    "        # implement the different type of method to treat the edges\n",
    "        image = self._padding(f)\n",
    "\n",
    "        # convolution with the gaussian kernel for filtering\n",
    "        self.image_= self._return_AVX_cython_convolution(lx,ly,image)\n",
    "\n",
    "        self.run_time_ = time.time() - start\n",
    "\n",
    "        # run the filter with scipy to get error and run time difference\n",
    "        self.filter_scipy(f)\n",
    "        self.error_ = np.linalg.norm(self.image_benchmark_-self.image_)\n",
    "\n",
    "        # run time is normalized by the run time of the scipy library\n",
    "        self.run_time_ /= self.run_time_benchmark_\n",
    "\n",
    "        return self     \n",
    "\n",
    "    def filter_cython(self,f):\n",
    "\n",
    "\n",
    "        start = time.time()\n",
    "        self.image_ = f * 0.0\n",
    "        lx, ly = f.shape\n",
    "        # create the gaussian filter kernel\n",
    "        self._kernel = self.kernel_\n",
    "\n",
    "        # implement the different type of method to treat the edges\n",
    "        image = self._padding(f)\n",
    "\n",
    "        # convolution with the gaussian kernel for filtering\n",
    "        self.image_= self._return_cython_convolution(lx,ly,image)\n",
    "\n",
    "        self.run_time_ = time.time() - start\n",
    "\n",
    "        # run the filter with scipy to get error and run time difference\n",
    "        self.filter_scipy(f)\n",
    "        self.error_ = np.linalg.norm(self.image_benchmark_-self.image_)\n",
    "\n",
    "        # run time is normalized by the run time of the scipy library\n",
    "        self.run_time_ /= self.run_time_benchmark_\n",
    "\n",
    "        return self \n",
    "\n",
    "    def filter_python(self,f):\n",
    "\n",
    "\n",
    "        start = time.time()\n",
    "        self.image_ = f * 0.0\n",
    "        lx, ly = f.shape\n",
    "        # create the gaussian filter kernel\n",
    "        self._kernel = self.kernel_\n",
    "\n",
    "        # implement the different type of method to treat the edges\n",
    "        image = self._padding(f)\n",
    "\n",
    "        # convolution with the gaussian kernel for filtering\n",
    "        self.image_= self._python_convolution(lx,ly,image)\n",
    "\n",
    "        self.run_time_ = time.time() - start\n",
    "\n",
    "        # run the filter with scipy to get error and run time difference\n",
    "        self.filter_scipy(f)\n",
    "        self.error_ = np.linalg.norm(self.image_benchmark_-self.image_)\n",
    "\n",
    "        # run time is normalized by the run time of the scipy library\n",
    "        self.run_time_ /= self.run_time_benchmark_\n",
    "\n",
    "        return self\n",
    "\n",
    "    def _padding(self, f):\n",
    "        \n",
    "        # implement the different type of method to treat the edges\n",
    "\n",
    "        if self.mode == 'constant':\n",
    "\n",
    "            # padding using the scipy library\n",
    "            image = np.lib.pad(f , self.lw, 'constant', constant_values = self.cval)    \n",
    "\n",
    "        elif self.mode == 'reflect':\n",
    "\n",
    "            # padding using the scipy library\n",
    "            image = np.lib.pad(f , self.lw, 'reflect')\n",
    "\n",
    "\n",
    "        elif self.mode == 'wrap':\n",
    "\n",
    "            # padding using the scipy library\n",
    "            image = np.lib.pad(f , self.lw, 'wrap')\n",
    "\n",
    "        elif self.mode == 'nearest':    \n",
    "\n",
    "            # padding using the scipy library\n",
    "            image = np.lib.pad(f , self.lw, 'edge')\n",
    "\n",
    "        return image\n",
    "\n",
    "\n",
    "\n",
    "def filter_cython_threading(gb, f):\n",
    "\n",
    "    start = time.time()\n",
    "    gb.image_ = f * 0.0\n",
    "    lx, ly = f.shape\n",
    "    # create the gaussian filter kernel\n",
    "    gb._kernel = gb.kernel_\n",
    "\n",
    "    # implement the different type of method to treat the edges\n",
    "    image = gb._padding(f)\n",
    "\n",
    "    # convolution with the gaussian kernel for filtering\n",
    "    gb.image_= _return_cython_convolution_threading(gb.lw,lx,ly,image,gb._kernel,gb.num_threads)\n",
    "\n",
    "    gb.run_time_ = time.time() - start\n",
    "\n",
    "    # run the filter with scipy to get error and run time difference\n",
    "    gb.filter_scipy(f)\n",
    "    gb.error_ = np.linalg.norm(gb.image_benchmark_-gb.image_)\n",
    "\n",
    "    # run time is normalized by the run time of the scipy library\n",
    "    gb.run_time_ /= gb.run_time_benchmark_\n",
    "\n",
    "    return gb   \n",
    "\n",
    "def _return_cython_convolution_threading(lw,lx, ly, image,kernel,num_threads):\n",
    "\n",
    "    # convolution using the Gaussian kernel\n",
    "\n",
    "    # initialize for cython\n",
    "    image_in = np.array(image, dtype = np.float32)\n",
    "    image_out = np.zeros((lx,ly), dtype = np.float32)\n",
    "    kernel = np.array(kernel, dtype = np.float32)\n",
    "\n",
    "    # # Create a list of threads\n",
    "    threads = []\n",
    "    for thread_id in range(num_threads):\n",
    "        # t = threading.Thread(target = filter_threading, args = (image_out,thread_id))\n",
    "        t = threading.Thread(target = filter_threading,\n",
    "                            args = (lw, lx, ly, image_in, image_out, kernel, \n",
    "                                    thread_id,num_threads))\n",
    "        threads.append(t)\n",
    "        t.start()\n",
    "    # make sure all the threads are done\n",
    "    [t.join() for t in threads]\n",
    "\n",
    "    return image_out        \n",
    "\n",
    "def filter_threading(lw, lx, ly, image_in,image_out,kernel,thread_id, num_threads):\n",
    "    # print('thread_id {}: image_out before= {} '.format(thread_id,image_out[0,0]))\n",
    "    assert np.all(image_out[thread_id,:] == 0)\n",
    "    _cython_convolution_threading(lw, lx, ly, image_in,image_out,kernel,thread_id, num_threads)\n",
    "    # print('thread_id {}: image_in after= {} , image_out after= {} '\n",
    "    #   .format(thread_id,image_in[thread_id+ num_threads,-8::],image_out[thread_id+ num_threads,-8::]))\n",
    "    return image_out \n",
    "\n",
    "'''\n",
    "These are the cython functions called by the class Gaussianfilter2D\n",
    "\n",
    "'''\n",
    "\n",
    "\n",
    "# cython decorators\n",
    "@cython.boundscheck(False)\n",
    "@cython.wraparound(False)\n",
    "\n",
    "cpdef _AVX_cython_convolution(int lw,\n",
    "                                int lx,\n",
    "                                int ly,\n",
    "                                np.float32_t [:,:] image_in,\n",
    "                                np.float32_t [:,:] image_out,\n",
    "                                np.float32_t [:,:] kernel,\n",
    "                                int num_threads ):\n",
    "    '''\n",
    "    this function does the convolution for the Gaussian filter in 2D\n",
    "    the function is written in cython for paralellizing the loops and \n",
    "    also uses AVX for the convolution. \n",
    "\n",
    "    Parameters\n",
    "\n",
    "    ----------\n",
    "\n",
    "    lw : int \n",
    "\n",
    "        number of adjacent pixels to considers on each sides \n",
    "        of the pixel that is being filtered\n",
    "\n",
    "    lx, ly : int, int\n",
    "\n",
    "        size of the image (lx, ly)\n",
    "\n",
    "    image_in, image_out: np.float32_t\n",
    "\n",
    "        the input image to be filtered and the resulting image filtered\n",
    "\n",
    "    kernel: np.float32_t\n",
    "\n",
    "        the 2D Gaussian kernel used for convolution\n",
    "\n",
    "    num_threads: int\n",
    "\n",
    "        the number of threads used for paralellization\n",
    "\n",
    "    '''\n",
    "\n",
    "    cdef:\n",
    "        int i,j, i_local, k, m_8, n_elem, ii, jj\n",
    "        np.float32_t [:,:] window\n",
    "        np.float32_t [:] output_array_left,output_array_right, \\\n",
    "                            output_array_top, output_array_bot\n",
    "        AVX.float8 AVX_coef_left, kernel_AVX_left, window_AVX_left, \\\n",
    "                            AVX_coef_right, kernel_AVX_right, window_AVX_right,\\\n",
    "                            AVX_coef_top, kernel_AVX_top , window_AVX_top, \\\n",
    "                            AVX_coef_bot, kernel_AVX_bot, window_AVX_bot\n",
    "        float sumg , check_sum_manual\n",
    "        int j_m\n",
    "\n",
    "    # Find the modulus of the number of adjacent pixels \n",
    "    # note we assume that lw % 8 = 0 in this version of the code\n",
    "    n_elem = lw / 8\n",
    "\n",
    "    # loop over i and j to filter all the pixels\n",
    "    window = np.zeros((2 * lw + 1, 2 * lw + 1), dtype = np.float32)\n",
    "    for i in range(lx):\n",
    "    # for i in prange(lx, \\\n",
    "    #           nogil=True, schedule = 'static', chunksize =1, num_threads= num_threads):   \n",
    "        for j in range(ly):\n",
    "        # for j in prange(ly, \\\n",
    "        #           nogil=True, schedule = 'static', chunksize =1, num_threads= num_threads):   \n",
    "\n",
    "            # For one pixel, we proceed here to the convolution\n",
    "            # i.e. np.sum(kernel * window)          \n",
    "\n",
    "            # initialize summation \n",
    "            sumg = 0.0\n",
    "\n",
    "            # define the image window used for the convolution with the kernel\n",
    "            # for ii in range(2*lw +1):\n",
    "            #   for jj in range(2 *lw +1):\n",
    "            #       window[ii,jj] = image_in[i + ii,j + jj]\n",
    "\n",
    "            window = image_in[i : i + 2*lw + 1, j: j + 2*lw + 1]\n",
    "\n",
    "            # Doing the convolution with a first loop on the rows\n",
    "            # We use AVX 8 float vectors to loop over the columns\n",
    "            # i.e. multiplication and addition of 8 adjacent columns of \n",
    "            # kernel and window at a time\n",
    "\n",
    "            # for i_local in range(window.shape[0]):\n",
    "            for i_local in prange(window.shape[0], \\\n",
    "                nogil=True, schedule = 'static', chunksize =1, num_threads= num_threads):   \n",
    "                for m_8 in range(n_elem):\n",
    "\n",
    "\n",
    "                    # The pixel in the middle is at (i_local,lw)\n",
    "                    # here we sum the left part\n",
    "                    window_AVX_left = AVX.make_float8(window[i_local,m_8*8+7],\n",
    "                                                     window[i_local,m_8*8+ 6],\n",
    "                                                     window[i_local,m_8*8+ 5],\n",
    "                                                     window[i_local,m_8*8+ 4],\n",
    "                                                     window[i_local,m_8*8+ 3],\n",
    "                                                     window[i_local,m_8*8+ 2],\n",
    "                                                     window[i_local,m_8*8+ 1],\n",
    "                                                     window[i_local,m_8*8+ 0])\n",
    "                    kernel_AVX_left =  AVX.make_float8(kernel[i_local,m_8*8+7],\n",
    "                                             kernel[i_local,m_8*8+6],\n",
    "                                             kernel[i_local,m_8*8+5],\n",
    "                                             kernel[i_local,m_8*8+4],\n",
    "                                             kernel[i_local,m_8*8+3],\n",
    "                                             kernel[i_local,m_8*8+2],\n",
    "                                             kernel[i_local,m_8*8+1],\n",
    "                                             kernel[i_local,m_8*8+0])\n",
    "                    AVX_coef_left = AVX.mul(window_AVX_left,kernel_AVX_left)\n",
    "\n",
    "                    # right part\n",
    "                    window_AVX_right = AVX.make_float8(window[i_local,lw+1+m_8*8+ 7],\n",
    "                                                     window[i_local, lw+1+ m_8*8+6],\n",
    "                                                     window[i_local, lw+1+ m_8*8+5],\n",
    "                                                     window[i_local, lw+1+ m_8*8+4],\n",
    "                                                     window[i_local, lw+1+ m_8*8+3],\n",
    "                                                     window[i_local, lw+1+ m_8*8+2],\n",
    "                                                     window[i_local, lw+1+ m_8*8+1],\n",
    "                                                     window[i_local,lw+1+  m_8*8+0])\n",
    "                    kernel_AVX_right =  AVX.make_float8(kernel[i_local,lw+1+m_8*8+7],\n",
    "                                             kernel[i_local,lw+1+m_8*8+6],\n",
    "                                             kernel[i_local,lw+1+m_8*8+5],\n",
    "                                             kernel[i_local,lw+1+m_8*8+4],\n",
    "                                             kernel[i_local,lw+1+m_8*8+3],\n",
    "                                             kernel[i_local,lw+1+m_8*8+2],\n",
    "                                             kernel[i_local,lw+1+m_8*8+1],\n",
    "                                             kernel[i_local,lw+1+m_8*8+0])\n",
    "                    AVX_coef_right = AVX.mul(window_AVX_right,kernel_AVX_right) \n",
    "\n",
    "                    # summation of the 8 floats in AVX\n",
    "                    for k in range(8):\n",
    "                        sumg += <np.float32_t> (<np.float32_t *> &AVX_coef_left)[k]\n",
    "                        sumg += <np.float32_t> (<np.float32_t *> &AVX_coef_right)[k]\n",
    "                \n",
    "\n",
    "            # Now we consider the column in the middle (:, lw)\n",
    "            # we can multipliate and add after storing into AVX vectors\n",
    "            # top and bottom\n",
    "            window_AVX_top = AVX.make_float8(window[m_8*8+ 7, lw],\n",
    "                                             window[ m_8*8+6, lw],\n",
    "                                             window[ m_8*8+5, lw],\n",
    "                                             window[ m_8*8+4, lw],\n",
    "                                             window[ m_8*8+3, lw],\n",
    "                                             window[ m_8*8+2, lw],\n",
    "                                             window[ m_8*8+1, lw],\n",
    "                                             window[ m_8*8+0, lw])\n",
    "            kernel_AVX_top =  AVX.make_float8(kernel[m_8*8+7, lw],\n",
    "                                     kernel[m_8*8+6, lw],\n",
    "                                     kernel[m_8*8+5, lw],\n",
    "                                     kernel[m_8*8+4, lw],\n",
    "                                     kernel[m_8*8+3, lw],\n",
    "                                     kernel[m_8*8+2, lw],\n",
    "                                     kernel[m_8*8+1, lw],\n",
    "                                     kernel[m_8*8+0, lw])\n",
    "            AVX_coef_top = AVX.mul(window_AVX_top,kernel_AVX_top)   \n",
    "\n",
    "            window_AVX_bot = AVX.make_float8(window[lw+1+ m_8*8+7, lw],\n",
    "                                             window[ lw+1+ m_8*8+6, lw],\n",
    "                                             window[ lw+1+ m_8*8+5, lw],\n",
    "                                             window[ lw+1+ m_8*8+4, lw],\n",
    "                                             window[ lw+1+ m_8*8+3, lw],\n",
    "                                             window[ lw+1+ m_8*8+2, lw],\n",
    "                                             window[ lw+1+ m_8*8+1, lw],\n",
    "                                             window[lw+1+  m_8*8+0, lw])\n",
    "            kernel_AVX_bot =  AVX.make_float8(kernel[lw+1+m_8*8+7, lw],\n",
    "                                     kernel[lw+1+m_8*8+6, lw],\n",
    "                                     kernel[lw+1+m_8*8+5, lw],\n",
    "                                     kernel[lw+1+m_8*8+4, lw],\n",
    "                                     kernel[lw+1+m_8*8+3, lw],\n",
    "                                     kernel[lw+1+m_8*8+2, lw],\n",
    "                                     kernel[lw+1+m_8*8+1, lw],\n",
    "                                     kernel[lw+1+ m_8*8+0, lw])\n",
    "            AVX_coef_bot = AVX.mul(window_AVX_bot,kernel_AVX_bot)\n",
    "\n",
    "\n",
    "            for k in range(8):\n",
    "                sumg += <np.float32_t> (<np.float32_t *> &AVX_coef_top)[k]\n",
    "                sumg += <np.float32_t> (<np.float32_t *> &AVX_coef_bot)[k]\n",
    "\n",
    "            # add the middle one\n",
    "            sumg += kernel[lw,lw]*window[lw,lw]                                     \n",
    "\n",
    "            # compute the filtered image\n",
    "            image_out[i, j] = sumg\n",
    "\n",
    "# cython decorators\n",
    "@cython.boundscheck(False)\n",
    "@cython.wraparound(False)\n",
    "\n",
    "cdef _cython_convolution(int lw,\n",
    "                        int  lx,\n",
    "                        int  ly,\n",
    "                        np.float32_t [:,:] image_in,\n",
    "                        np.float32_t [:,:] image_out,\n",
    "                        np.float32_t [:,:] kernel,\n",
    "                        int num_threads):\n",
    "\n",
    "    cdef:\n",
    "        int i, j, i_local, j_local\n",
    "        np.float32_t [:,:] window\n",
    "        float sumg\n",
    "\n",
    "    # convolution with the gaussian kernel for filtering\n",
    "    for i in range(0 , lx ):\n",
    "        for j in range(0 , ly ):\n",
    "            window = image_in[i : i + 2* lw + 1, j: j + 2* lw + 1]\n",
    "            sumg = 0.0\n",
    "            # for i_local in range(window.shape[0]):\n",
    "            for i_local in prange(window.shape[0], \\\n",
    "                nogil=True, schedule = 'static', num_threads= num_threads):\n",
    "                for j_local in range(window.shape[1]):\n",
    "                    sumg += window[i_local, j_local]*kernel[i_local,j_local]\n",
    "            image_out[i, j] = sumg\n",
    "            \n",
    "@cython.boundscheck(False)\n",
    "@cython.wraparound(False)\n",
    "cdef filter_threading_2(np.float32_t [:,:] image_out,int thread_id):\n",
    "    image_out[0,0] += 1\n",
    "\n",
    "# cython decorators\n",
    "@cython.boundscheck(False)\n",
    "@cython.wraparound(False)\n",
    "cdef _cython_convolution_threading(int lw,\n",
    "                        int  lx,\n",
    "                        int  ly,\n",
    "                        np.float32_t [:,:] image_in,\n",
    "                        np.float32_t [:,:] image_out,\n",
    "                        np.float32_t [:,:] kernel,\n",
    "                        int offset,\n",
    "                        unsigned int step):\n",
    "    cdef:\n",
    "        int i, j, i_local, j_local\n",
    "        np.float32_t [:,:] window\n",
    "        float sumg\n",
    "\n",
    "    # # convolution with the gaussian kernel for filtering\n",
    "    with nogil:\n",
    "        i = offset\n",
    "        while i < lx :\n",
    "            for j in range(0, ly):\n",
    "                window = image_in[i : i +2* lw+ 1, j: j + 2* lw + 1]\n",
    "                sumg = 0.0\n",
    "                for i_local in range(window.shape[0]):\n",
    "                    for j_local in range(window.shape[1]):\n",
    "                        sumg += window[i_local, j_local]*kernel[i_local,j_local]\n",
    "                image_out[i, j] = sumg\n",
    "            i += step"
   ]
  },
  {
   "cell_type": "code",
   "execution_count": 18,
   "metadata": {
    "collapsed": false
   },
   "outputs": [
    {
     "name": "stdout",
     "output_type": "stream",
     "text": [
      "Compiling with /usr/local/bin/clang-omp\n",
      "run time python = 600.195764355 * run time scipy\n",
      "run time cython = 140.950568026 * run time scipy\n",
      "run time AVX = 150.628835194 * run time scipy\n",
      "run time cython with multithreading = 83.3375489724 * run time scipy\n"
     ]
    }
   ],
   "source": [
    "# ------------------------------------------------------------\n",
    "# import modules to compile cython and AVX\n",
    "# ------------------------------------------------------------\n",
    "%matplotlib inline\n",
    "import sys\n",
    "import os.path\n",
    "sys.path.append(os.path.join('.', 'util'))\n",
    "\n",
    "import set_compiler\n",
    "set_compiler.install()\n",
    "\n",
    "import pyximport\n",
    "pyximport.install()\n",
    "import pdb\n",
    "\n",
    "\n",
    "from scipy import misc\n",
    "import numpy as np\n",
    "import matplotlib.pyplot as plt\n",
    "import time\n",
    "from scipy.ndimage.filters import gaussian_filter1d, gaussian_filter\n",
    "from Gaussianfilter2D_class import Gaussianfilter2D, filter_cython_threading\n",
    "\n",
    "# --------------------------------------------\n",
    "# initialization - define image\n",
    "# --------------------------------------------*\n",
    "imagename = 'test.png'\n",
    "\n",
    "# load image (only one color now)\n",
    "f = misc.imread(imagename)\n",
    "if imagename == 'small.png':\n",
    "    f = f[:,:,0]\n",
    "else:\n",
    "    pass\n",
    "\n",
    "\n",
    "# --------------------------------------------\n",
    "# Gaussian filter\n",
    "# --------------------------------------------\n",
    "\n",
    "# create a instance gaussian filter\n",
    "gb = Gaussianfilter2D(sigma = 8.0, truncate = 8.0, mode = 'reflect', cval = 0.0, num_threads = 8)\n",
    "\n",
    "\n",
    "# --------------------------------------------\n",
    "# print the run times\n",
    "# --------------------------------------------\n",
    "\n",
    "gb.filter_python(f)\n",
    "print('run time python = {} * run time scipy'.format(gb.run_time_))\n",
    "\n",
    "gb.filter_cython(f)\n",
    "print('run time cython = {} * run time scipy'.format(gb.run_time_))\n",
    "\n",
    "gb.filter_AVX(f)\n",
    "print('run time AVX = {} * run time scipy'.format(gb.run_time_))\n",
    "\n",
    "filter_cython_threading(gb,f)\n",
    "print('run time cython with multithreading = {} * run time scipy'.format(gb.run_time_))\n",
    "\n"
   ]
  },
  {
   "cell_type": "markdown",
   "metadata": {},
   "source": [
    "We find that in the case of a small window the cython mutlithtreading is the most efficient method. Let us compare the run time for various values of truncate and number of threads. First we show our computer hardware"
   ]
  },
  {
   "cell_type": "code",
   "execution_count": 19,
   "metadata": {
    "collapsed": false
   },
   "outputs": [
    {
     "name": "stdout",
     "output_type": "stream",
     "text": [
      "2016-02-05T21:49:29\n",
      "\n",
      "CPython 2.7.11\n",
      "IPython 4.0.3\n",
      "\n",
      "compiler   : GCC 4.2.1 (Apple Inc. build 5577)\n",
      "system     : Darwin\n",
      "release    : 15.3.0\n",
      "machine    : x86_64\n",
      "processor  : i386\n",
      "CPU cores  : 8\n",
      "interpreter: 64bit\n"
     ]
    }
   ],
   "source": [
    "%load_ext watermark\n",
    "%watermark"
   ]
  },
  {
   "cell_type": "code",
   "execution_count": 21,
   "metadata": {
    "collapsed": false
   },
   "outputs": [],
   "source": [
    "time_python = []\n",
    "time_cython = []\n",
    "time_AVX = []\n",
    "time_threading = []\n",
    "\n",
    "truncate_vector = [4,8,12,16,20]\n",
    "threads = [4,8]\n",
    "for t in threads:\n",
    "    for trunc in truncate_vector:\n",
    "        # create a instance gaussian filter\n",
    "        gb = Gaussianfilter2D(sigma = 8.0, truncate = trunc, mode = 'reflect', cval = 0.0, num_threads = t)\n",
    "        gb.filter_python(f)\n",
    "        time_python.append(gb.run_time_)\n",
    "        gb.filter_cython(f)\n",
    "        time_cython.append(gb.run_time_)\n",
    "        gb.filter_AVX(f)\n",
    "        time_AVX.append(gb.run_time_)\n",
    "        filter_cython_threading(gb,f)\n",
    "        time_threading.append(gb.run_time_)"
   ]
  },
  {
   "cell_type": "code",
   "execution_count": 22,
   "metadata": {
    "collapsed": false
   },
   "outputs": [
    {
     "data": {
      "text/plain": [
       "<matplotlib.legend.Legend at 0x10e824ed0>"
      ]
     },
     "execution_count": 22,
     "metadata": {},
     "output_type": "execute_result"
    },
    {
     "data": {
      "image/png": "[encoded data removed]",
      "text/plain": [
       "<matplotlib.figure.Figure at 0x10e4dba10>"
      ]
     },
     "metadata": {},
     "output_type": "display_data"
    }
   ],
   "source": [
    "plt.rcParams.update({'font.size': 18})\n",
    "plt.figure(figsize=(15,8))\n",
    "plt.plot(truncate_vector,time_python[0:5], 'bo-',lw =2,label ='python 4 threads')\n",
    "plt.plot(truncate_vector,time_python[5::], 'bo--',lw =2,label ='python 8 threads')\n",
    "plt.plot(truncate_vector,time_cython[0:5], 'ro-',lw =2,label='cython 4 threads')\n",
    "plt.plot(truncate_vector,time_cython[5::], 'ro--',lw =2,label='cython 8 threads')\n",
    "plt.plot(truncate_vector, time_AVX[0:5], 'go-',lw =2,label ='AVX 4 threads')\n",
    "plt.plot(truncate_vector, time_AVX[5::], 'go--',lw =2,label ='AVX 8 threads')\n",
    "plt.plot(truncate_vector,time_threading[0:5], 'ko-',lw =2,label='cython multithreaded 4 threads')\n",
    "plt.plot(truncate_vector,time_threading[5::], 'ko--',lw =2,label='cython multithreaded 8 threads')\n",
    "plt.legend(loc='best')"
   ]
  },
  {
   "cell_type": "markdown",
   "metadata": {},
   "source": [
    "## 4.1 Analysis\n",
    "\n",
    "As expected the python implementation is the slowest. The cython implementation has a prange over the rows of the window. For larger values of the window's size we see a good speed up with the increasing number of threads -- there is no overhead anymore. For a small window the AVX implementation is not faster than the cython implementation. It is because there are not many float8 (vectors of 8 float_32t) to load and use for the convolution. The serial version of the sum and multiplication over the columns is as fast as the AVX implementation. However when the number of columns in the window becomes big enoug (truncate = 16 for example), we can load multiple float8 and it is faster than the serial version. The cython multithreading version is faster than AVX when the size of the window is relatively small. It is because the convolution is relatively fast to do, and therefore distributing the pixels of the input image is a fast algorithm. However for a large window, the most efficient way is still to speed up the convolution with AVX."
   ]
  },
  {
   "cell_type": "markdown",
   "metadata": {},
   "source": [
    "# Conclusion\n",
    "\n",
    "The main take-aways of our study are:\n",
    "\n",
    "- AVX can be useful for both computing output pixels and computing contributions of a context window for one pixel. However, for the latter to be efficient, you need a truncate number big enough. Otherwise the increase in performance is nullified by overhead.\n",
    "- It is useful to use either AVX or prange but the combination of both does not give better performance (for a number of threads inferior to 8)\n",
    "- Our best implementation for the bilateral filter uses mutlithread and AVX to compute output pixels.\n",
    "- Our best implementation for the gaussian filter uses AVX to compute contribution of context to one output pixel.\n",
    "\n",
    "\n",
    "Ways forward would be:\n",
    "\n",
    "- Implementing the exp function in AVX\n",
    "- Rewrite the code where AVX is used to compute output pixels in a more flexible way (using mask as we did for the AVX implementation of a pixel computation).\n",
    "- Not in the same spirit as this report, we think that implementing the filters on integrated GPU would be the best."
   ]
  },
  {
   "cell_type": "code",
   "execution_count": null,
   "metadata": {
    "collapsed": true
   },
   "outputs": [],
   "source": []
  }
 ],
 "metadata": {
  "kernelspec": {
   "display_name": "Python 2",
   "language": "python",
   "name": "python2"
  },
  "language_info": {
   "codemirror_mode": {
    "name": "ipython",
    "version": 2
   },
   "file_extension": ".py",
   "mimetype": "text/x-python",
   "name": "python",
   "nbconvert_exporter": "python",
   "pygments_lexer": "ipython2",
   "version": "2.7.11"
  },
  "toc": {
   "toc_cell": true,
   "toc_number_sections": false,
   "toc_threshold": 4,
   "toc_window_display": false
  }
 },
 "nbformat": 4,
 "nbformat_minor": 0
}
