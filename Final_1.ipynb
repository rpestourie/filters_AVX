{
 "cells": [
  {
   "cell_type": "code",
   "execution_count": 9,
   "metadata": {
    "collapsed": false
   },
   "outputs": [],
   "source": [
    "import sys\n",
    "import os.path\n",
    "sys.path.append(os.path.join('.', 'util'))\n",
    "\n",
    "import set_compiler\n",
    "set_compiler.install()\n",
    "\n",
    "import pyximport\n",
    "pyximport.install()\n",
    "\n",
    "from timer import Timer\n",
    "\n",
    "import pylab as plt\n",
    "import numpy as np"
   ]
  },
  {
   "cell_type": "markdown",
   "metadata": {},
   "source": [
    "# Bilateral filter\n",
    "\n",
    "Theory from [this paper](http://people.csail.mit.edu/sparis/publi/2009/fntcgv/Paris_09_Bilateral_filtering.pdf)\n",
    "\n",
    "**Why not on GPU?**\n",
    "\n",
    "This project seem to fit better GPU calculation. However, developping on CPU permits to use the memory hierarchy more than using GPU. Indeed the cache is bigger in the CPU which permits to get more context for a pixel in cache.  \n",
    "\n",
    "As seen in this image from the class (credit Ray Thouis Jones): \n",
    "\n",
    "![credit Ray Thouis Jones](cacheCPUvsGPU.png)\n",
    "\n",
    "Using the SIMD of AVX allows us to optimize performance on CPU calculation. However, this will be true only if the algorithm is **computation bound** and not **memory bound**. That is why we will pay special care to memory optimization in this project.\n"
   ]
  },
  {
   "cell_type": "markdown",
   "metadata": {},
   "source": [
    "# Code implementations and optimization"
   ]
  },
  {
   "cell_type": "markdown",
   "metadata": {},
   "source": [
    "## Introductory remarks\n",
    "\n",
    "In the following part of the report we will introduce snippets of our code that don't run by themselves but that show the different things we tried to get better performances. All the function are written in seperate files and are called within this Ipython notebook. We will also consider performances.\n",
    "\n",
    "Another remarks concerning the content of this report. We emphasized our work on the optimization of the code, the understanding of different concepts such as the memory behavious and the parallelism. We explore some implementations using AVX. However, we could not manage to code the exponential function in AVX. My computer has only SSE and has an AVX emulator. There are exp functions coded for AVX on the internet but they are not working with my emulator. As finding a hack to make work was starting to take too much of our time, we decided to move on in order to focus on concepts of the course and simply commenting out the lines where we take the exp of an AVX array. We could still benchmarck the accuracy of our code when we were not using AVX, in a first step with the Gaussian filter that we compared against a scipy function and for a bilateral filter using only cython. We have already showed an output image of our code as the example for the bilateral filter at the beginning of this report (where we used the function r_r1 that we present below)."
   ]
  },
  {
   "cell_type": "markdown",
   "metadata": {},
   "source": [
    "---\n",
    "\n",
    "---\n",
    "\n",
    "## Cython, AVX and Python multithreading"
   ]
  },
  {
   "cell_type": "markdown",
   "metadata": {},
   "source": [
    "### Cython\n",
    "\n",
    "You can see the documentation [here](http://docs.cython.org/). We specifically use:\n",
    "\n",
    "- the fact that we can release the Global Interpreter Lock (GIL) with Cython. It will prove particularly useful in our multi-threaded implementation because it permits actual multi-threading.\n",
    "- the cython implementation of OpenMP for parallelism, and more specifically [prange](http://docs.cython.org/src/userguide/parallelism.html). We will just remind that at the end of every  prange(),there is an implicit barrier. All threads must reach the barrier before computation continues, and there is no locks.\n",
    "\n",
    "Nota Bene: my computer having only 2 threads, when there is a prange, the number of threads working is equal to 2. The description of this machine is in the following cell:"
   ]
  },
  {
   "cell_type": "code",
   "execution_count": 99,
   "metadata": {
    "collapsed": false
   },
   "outputs": [
    {
     "name": "stdout",
     "output_type": "stream",
     "text": [
      "2016-02-05T19:29:57\n",
      "\n",
      "CPython 2.7.6\n",
      "IPython 3.1.0\n",
      "\n",
      "compiler   : GCC 4.8.2\n",
      "system     : Linux\n",
      "release    : 3.13.0-77-generic\n",
      "machine    : x86_64\n",
      "processor  : x86_64\n",
      "CPU cores  : 2\n",
      "interpreter: 64bit\n"
     ]
    }
   ],
   "source": [
    "%watermark"
   ]
  },
  {
   "cell_type": "markdown",
   "metadata": {},
   "source": [
    "### AVX\n",
    "\n",
    "Advanced Vector Extensions (AVX) are extensions to the x86 instruction set architecture for microprocessors from Intel and AMD (from [Wikipedia](https://en.wikipedia.org/wiki/Advanced_Vector_Extensions)). My computer actually uses another extension which SS3 (because it was built before 2011).\n",
    "\n",
    "**More's law**\n",
    "\n",
    "As seen in class, the number of transistors per chip has increased following More's exponential law. Though the clock time has not (transistors get smaller but heat cannot be sucked out of the chips fast enough for a given area, thus the temperature increases and the chip melts). AVX uses the paradigm of **[SIMD](https://en.wikipedia.org/wiki/SIMD)**: \"Single Instruction Multiple Data\". The same instruction is done  8-way-parallel on multiple data **without concurrency.**\n",
    "\n",
    "From this graph (studied in class) we see that today, a substantial increase in performance is dur to SIMD.\n",
    "\n",
    "![performance plot](whyAVX.png)\n",
    "\n",
    "AVX enables a performance increase only if the algorithm is **computationally intensive/ [CPU bound](http://stackoverflow.com/questions/868568/what-do-the-terms-cpu-bound-and-i-o-bound-mean)** (a typical example is mandelbrot which was extensively studied in class. However it should not speed things up much if the algorithm is **[I/O bound](http://stackoverflow.com/questions/868568/what-do-the-terms-cpu-bound-and-i-o-bound-mean) (+ [Serialization](https://msdn.microsoft.com/en-us/library/ms233843.aspx))**! We will be able to check this in our optimization study of the I/O. We will try our best to use the memory effectively so that there is a real gain in using AVX.\n",
    "\n",
    "**NB:** I could not find a hack to compile AVX program within iPython so I compiled it on my computer and just plot the code without running it."
   ]
  },
  {
   "cell_type": "markdown",
   "metadata": {},
   "source": [
    "### Python multithreading\n",
    "\n",
    "We use Python [threading](https://docs.python.org/2/library/threading.html) module. Multithreading permits us to share the image accross the threads. There is no local copy of the image which makes the code run faster.\n",
    "\n",
    "One drawback of Python threading is that is cannot perform \"real\" multi-threading if a CPU-bound code is written in pure python because the GIL has to keep track of every Python objects. Though we dodge this short coming using \"nogil=True\" in Cython."
   ]
  },
  {
   "cell_type": "markdown",
   "metadata": {},
   "source": [
    "---\n",
    "\n",
    "---\n",
    "\n",
    "## Overview of the optimizations we have done\n",
    "\n",
    "As a diagram is giagram is worth a thousand words, here is a diagram of bilateral filter:"
   ]
  },
  {
   "cell_type": "markdown",
   "metadata": {
    "collapsed": false
   },
   "source": [
    "<img src=\"./fig1.png\" >"
   ]
  },
  {
   "cell_type": "markdown",
   "metadata": {},
   "source": [
    "Let's just emphasize that there are 2 part we will optimize (which are the next 2 paragraphs):\n",
    "\n",
    "- Loop over the pixels of the output\n",
    "- Computation of one pixel"
   ]
  },
  {
   "cell_type": "markdown",
   "metadata": {},
   "source": [
    "### Loop over the pixels of the output\n",
    "\n",
    "We have thought of 3 different ways to implement the double for loop over the pixels:\n",
    "\n",
    "1. using one range on the rows and one range on the columns\n",
    "2. using one range on the rows and one prange with steps of 8 for the columns (a further optimization does the whole step of 8 at once using AVX)\n",
    "3. using python multithread to send the rows and use prange with steps of 8 for the columns and AVX: this is our best implementation regarding time.\n"
   ]
  },
  {
   "cell_type": "markdown",
   "metadata": {},
   "source": [
    "### Computation for one pixel\n",
    "\n",
    "In bilateral filter, you cannot just multiply a window by a kernel. A double for loop has to be done to sum up all the contributions of the pixels in the neighborhood to the computed output pixel.\n",
    "\n",
    "We have though of 3 different ways to do these for loops:\n",
    "\n",
    "1. using one prange on the rows and one range on the columns.\n",
    "2. using one prange on the rows and one range with steps of 8 for the columns (a further optimization does the whole step of 8 at once using AVX)\n",
    "3. using one range/prange  on the"
   ]
  },
  {
   "cell_type": "markdown",
   "metadata": {},
   "source": [
    "---\n",
    "\n",
    "---\n",
    "\n",
    "## Our implementations\n",
    "\n",
    "In this section we go through the different iterations and optimization of our algorithm. For each iteration we describe the algorithm and try to predict what the performance should be. We also do one run looking at the cache performence with the command line \"! perf stat -e cache-misses,instructions ./driver_#function#.py 256 2 2 4\".\n",
    "Here:\n",
    "\n",
    "- 256 stands for the number of pixel on one side of the image.\n",
    "- 2 stands for sigma_s\n",
    "- the other 2 stands for sigma_r\n",
    "- 4 is the truncate number.\n",
    "\n",
    "However, if you run it on a mac this won't work because perf only exists on Linux. If the line are run on Linux, the values will be different because it will be another machine. But we expect the same trends to be seen.\n",
    "\n",
    "The driver function calls the function \"time_update.py\" which is a transformed version of the function we used in class to study cache. It uses the module timeit and takes the minimum time out of 5 run of the function 3 times. We take the min because we try to avoid the noise related Garbage Collector for example that could hamper the performance.\n",
    "\n",
    "The \"cache performance\" is a try, we got it from [this article](http://developerblog.redhat.com/2014/03/10/determining-whether-an-application-has-poor-cache-performance-2/) that says \"The ratio of cache-misses to instructions will give an indication how well the cache is working\". Though in praxis, it is hard to see the correlation with the time performance. The number of instructions varies also a lot from one implementation to the other.\n",
    "\n",
    "We then briefle discuss the performance however we will further run and discuss the performance in the next section."
   ]
  },
  {
   "cell_type": "markdown",
   "metadata": {},
   "source": [
    "**Note on the code parameters**\n",
    "\n",
    "The bilateral filter takes as inputs:\n",
    "\n",
    " - sigma_r is the standard deviation of the bilateral filter\n",
    " - sigma_s is the standard deviation of the gaussian blur\n",
    " - truncate is the value at which we truncate."
   ]
  },
  {
   "cell_type": "markdown",
   "metadata": {},
   "source": [
    "###r_r1\n",
    "\n",
    "**Description**\n",
    "\n",
    "Here we do ranges for the loops over output pixels."
   ]
  },
  {
   "cell_type": "raw",
   "metadata": {},
   "source": [
    "    for i in range(lw, imsize0 + lw):\n",
    "        for j in range(lw, imsize1 + lw):\n",
    "        [...code for one pixel...]"
   ]
  },
  {
   "cell_type": "markdown",
   "metadata": {},
   "source": [
    "This figure also illustrates it. This will be the case in the next 6 implementations.\n",
    "\n",
    "![](fig2.png)"
   ]
  },
  {
   "cell_type": "markdown",
   "metadata": {},
   "source": [
    "We also do ranges for the computation of one pixel. (Actually in the code one of the range has step 8 to prepare for a future implementation. We also need to care about the dimension of the window in order to get multiples of 8 as shown in the figure, we will use a mask ther with AVX).\n",
    "\n",
    "![](fig6.png)\n",
    "\n",
    "The corresponding code is:"
   ]
  },
  {
   "cell_type": "raw",
   "metadata": {},
   "source": [
    "            for k in range(windowsize0):\n",
    "                for l in range(0, windowsize1, 8):\n",
    "                    [...code to load and compute the contribution of pixels 8 by 8...]"
   ]
  },
  {
   "cell_type": "markdown",
   "metadata": {},
   "source": [
    "**Prediction**\n",
    "\n",
    "This is just a python code translated into cython. We have not looked at the performance of pure Python (because it is not relevant) but this implementation should be about twice faster. Also it should be one of the worst performance we will look at since we have not started to optimize yet."
   ]
  },
  {
   "cell_type": "code",
   "execution_count": 23,
   "metadata": {
    "collapsed": false
   },
   "outputs": [
    {
     "name": "stdout",
     "output_type": "stream",
     "text": [
      "<built-in function r_r1>: 31.082392931s\n",
      "\n",
      " Performance counter stats for './driver_r_r1.py 256 2 2 4':\n",
      "\n",
      "        17,718,017 cache-misses                                                \n",
      "   241,976,859,242 instructions             \n",
      "\n",
      "     157.780398824 seconds time elapsed\n",
      "\n"
     ]
    }
   ],
   "source": [
    "! perf stat -e cache-misses,instructions ./driver_r_r1.py 256 2 2 4"
   ]
  },
  {
   "cell_type": "code",
   "execution_count": 43,
   "metadata": {
    "collapsed": false
   },
   "outputs": [
    {
     "name": "stdout",
     "output_type": "stream",
     "text": [
      "The cache efficiency is 13657.107296\n"
     ]
    }
   ],
   "source": [
    "print(\"The cache efficiency is {}\".format(241976859242./17718017.))"
   ]
  },
  {
   "cell_type": "markdown",
   "metadata": {},
   "source": [
    "**Discussion**\n",
    "\n",
    "Not much to be said, we will use it as a baseline.\n",
    "\n",
    "---\n",
    "\n",
    "###r_pr1\n",
    "\n",
    "**Description**\n",
    "\n",
    "Here we do ranges for the loops over output pixels.\n",
    "\n",
    "We do pranges for the computation of one pixel."
   ]
  },
  {
   "cell_type": "raw",
   "metadata": {},
   "source": [
    "            for k in prange(windowsize0, nogil = True, num_threads=num_thread):\n",
    "                for l in range(0, windowsize1, 8):\n",
    "                    # take local_input which will become an AVX 8-array\n",
    "                    for ii in range(8):\n",
    "                        local_input[ii] = window[k,l+ii]"
   ]
  },
  {
   "cell_type": "markdown",
   "metadata": {},
   "source": [
    "**Prediction**\n",
    "\n",
    "Here we are taking advantage of the 2 threads so it should be about twice faster (because I am using only 2 threads)."
   ]
  },
  {
   "cell_type": "code",
   "execution_count": 24,
   "metadata": {
    "collapsed": false
   },
   "outputs": [
    {
     "name": "stdout",
     "output_type": "stream",
     "text": [
      "<built-in function r_pr1>: 12.3886418343s\n",
      "\n",
      " Performance counter stats for './driver_r_pr1.py 256 2 2 4':\n",
      "\n",
      "        13,967,240 cache-misses                                                \n",
      "   124,698,915,537 instructions             \n",
      "\n",
      "      79.766505644 seconds time elapsed\n",
      "\n"
     ]
    }
   ],
   "source": [
    "! perf stat -e cache-misses,instructions ./driver_r_pr1.py 256 2 2 4"
   ]
  },
  {
   "cell_type": "code",
   "execution_count": 46,
   "metadata": {
    "collapsed": false
   },
   "outputs": [
    {
     "name": "stdout",
     "output_type": "stream",
     "text": [
      "The cache efficiency is 8927.95681445\n"
     ]
    }
   ],
   "source": [
    "print(\"The cache efficiency is {}\".format(1./13967240.*124698915537.))"
   ]
  },
  {
   "cell_type": "markdown",
   "metadata": {},
   "source": [
    "**Discussion**\n",
    "\n",
    "We see that it goes more than twice faster. We also see that the cache performance is a little worse. It is hard to tell why it is that much better.\n",
    "\n",
    "---\n",
    "\n",
    "###r_AVX1\n",
    "\n",
    "**Description**\n",
    "\n",
    "Here we do ranges for the loops over output pixels.\n",
    "\n",
    "We do pranges for the computation of one pixel and AVX implementation."
   ]
  },
  {
   "cell_type": "raw",
   "metadata": {},
   "source": [
    "            for k in prange(windowsize0, nogil = True, num_threads=num_thread):\n",
    "\n",
    "                AVX_y =  AVX.float_to_float8(<float> (k-lw))\n",
    "\n",
    "                for l in range(0, windowsize1, 8):\n",
    "                \n",
    "                [...code that implement AVX...]"
   ]
  },
  {
   "cell_type": "markdown",
   "metadata": {},
   "source": [
    "**Prediction**\n",
    "\n",
    "Now if we are CPU bound and if there is not too much overhead it should go 8 times faster than the previous implementation."
   ]
  },
  {
   "cell_type": "code",
   "execution_count": 42,
   "metadata": {
    "collapsed": false
   },
   "outputs": [
    {
     "name": "stdout",
     "output_type": "stream",
     "text": [
      "<built-in function r_AVX1>: 15.9948129654s\n",
      "\n",
      " Performance counter stats for './driver_r_AVX1.py 256 2 2 4':\n",
      "\n",
      "        33,212,160 cache-misses                                                \n",
      "   115,518,094,928 instructions             \n",
      "\n",
      "     107.889073329 seconds time elapsed\n",
      "\n"
     ]
    }
   ],
   "source": [
    "! perf stat -e cache-misses,instructions ./driver_r_AVX1.py 256 2 2 4"
   ]
  },
  {
   "cell_type": "code",
   "execution_count": 45,
   "metadata": {
    "collapsed": false
   },
   "outputs": [
    {
     "name": "stdout",
     "output_type": "stream",
     "text": [
      "The cache efficiency is 3478.18675232\n"
     ]
    }
   ],
   "source": [
    "print(\"The cache efficiency is {}\".format(1./33212160.*115518094928.))"
   ]
  },
  {
   "cell_type": "markdown",
   "metadata": {},
   "source": [
    "**Discussion**\n",
    "\n",
    "We see that it actually goes slower than prange. We also see that the cache performance is a little worse again. Maybe the context window needed to compute a pixel is too small to actually take benefit from AVX, the overhead are too costly. In the next section we will see more test runs and might have a better idea.\n",
    "\n",
    "---\n",
    "\n",
    "###r_r2\n",
    "\n",
    "**Description**\n",
    "\n",
    "Here we do ranges for the loops over output pixels.\n",
    "\n",
    "\n",
    "We also do ranges for the computation of one pixel. But this time we change the loading style as describe in the figure:\n",
    "![](fig7.png)\n",
    "\n",
    "This version is not as adapatable the product of sigma and truncate has to be a multiple of 8.\n",
    "\n",
    "The corresponding code is:"
   ]
  },
  {
   "cell_type": "raw",
   "metadata": {},
   "source": [
    "for k in range(pan):\n",
    "                # loop in the line in 3 part: the center\n",
    "                [...code...]\n",
    "\n",
    "                #the right part of the line (suits avx)\n",
    "\t\t\t\tfor l in range(1, lw+1, 8):\n",
    "\t\t\t\t\tfor _ in range(l,l+8):\n",
    "                    [...code to load an AVX array and compute on the right...]\n",
    "\n",
    "                #the left part of the line (suits avx)\n",
    "\t\t\t\tfor l in range(0, lw, 8):\n",
    "\t\t\t\t\tfor _ in range(l,l+8):\n",
    "                    [...code to load an AVX array and compute on the left...]\n"
   ]
  },
  {
   "cell_type": "markdown",
   "metadata": {},
   "source": [
    "Note: in this implementation (it was our first), the input picture is 9 copies of the image instead of just padding (we came with this idea afterwards).\n",
    "\n",
    "**Prediction**\n",
    "\n",
    "Here we are less flexible but we use all the data we load. The performance should be similar to the 1 design maybe a little better."
   ]
  },
  {
   "cell_type": "code",
   "execution_count": 13,
   "metadata": {
    "collapsed": false
   },
   "outputs": [
    {
     "name": "stdout",
     "output_type": "stream",
     "text": [
      "<built-in function r_r2>: 6.03676605225s\n",
      "\n",
      " Performance counter stats for './driver_r_r2.py 256 2 2 4':\n",
      "\n",
      "         5,468,232 cache-misses                                                \n",
      "    38,025,242,310 instructions             \n",
      "\n",
      "      31.897457003 seconds time elapsed\n",
      "\n"
     ]
    }
   ],
   "source": [
    "! perf stat -e cache-misses,instructions ./driver_r_r2.py 256 2 2 4"
   ]
  },
  {
   "cell_type": "code",
   "execution_count": 16,
   "metadata": {
    "collapsed": false
   },
   "outputs": [
    {
     "name": "stdout",
     "output_type": "stream",
     "text": [
      "The cache efficiency is 6953.84583353\n"
     ]
    }
   ],
   "source": [
    "print(\"The cache efficiency is {}\".format(38025242310./5468232.))"
   ]
  },
  {
   "cell_type": "markdown",
   "metadata": {
    "collapsed": true
   },
   "source": [
    "**Discussion**\n",
    "\n",
    "\n",
    "\n",
    "The following two implementations are similar incrementations as before so we won't describe not predict.\n",
    "\n",
    "---\n",
    "\n",
    "###r_pr2\n",
    "\n"
   ]
  },
  {
   "cell_type": "code",
   "execution_count": 14,
   "metadata": {
    "collapsed": false
   },
   "outputs": [
    {
     "name": "stdout",
     "output_type": "stream",
     "text": [
      "<built-in function r_pr2>: 5.70023298264s\n",
      "\n",
      " Performance counter stats for './driver_r_pr2.py 256 2 2 4':\n",
      "\n",
      "         7,068,829 cache-misses                                                \n",
      "    58,136,394,542 instructions             \n",
      "\n",
      "      36.495997363 seconds time elapsed\n",
      "\n"
     ]
    }
   ],
   "source": [
    "! perf stat -e cache-misses,instructions ./driver_r_pr2.py 256 2 2 4"
   ]
  },
  {
   "cell_type": "code",
   "execution_count": 17,
   "metadata": {
    "collapsed": false
   },
   "outputs": [
    {
     "name": "stdout",
     "output_type": "stream",
     "text": [
      "The cache efficiency is 8224.33171633\n"
     ]
    }
   ],
   "source": [
    "print(\"The cache efficiency is {}\".format(58136394542./7068829.))"
   ]
  },
  {
   "cell_type": "markdown",
   "metadata": {},
   "source": [
    "**Discussion**\n",
    "\n",
    "The performance is slightly better but not twice better. Maybe having some thread adds some overhead and also the r_r2 version is already very effective. The cache performance is a little worse.\n",
    "\n",
    "---\n",
    "\n",
    "###r_AVX2"
   ]
  },
  {
   "cell_type": "code",
   "execution_count": 15,
   "metadata": {
    "collapsed": false
   },
   "outputs": [
    {
     "name": "stdout",
     "output_type": "stream",
     "text": [
      "<built-in function r_AVX2>: 12.785807848s\n",
      "\n",
      " Performance counter stats for './driver_r_AVX2.py 256 2 2 4':\n",
      "\n",
      "        17,775,463 cache-misses                                                \n",
      "    80,883,074,937 instructions             \n",
      "\n",
      "      73.915027672 seconds time elapsed\n",
      "\n"
     ]
    }
   ],
   "source": [
    "! perf stat -e cache-misses,instructions ./driver_r_AVX2.py 256 2 2 4"
   ]
  },
  {
   "cell_type": "code",
   "execution_count": 18,
   "metadata": {
    "collapsed": false
   },
   "outputs": [
    {
     "name": "stdout",
     "output_type": "stream",
     "text": [
      "The cache efficiency is 4550.26543821\n"
     ]
    }
   ],
   "source": [
    "print(\"The cache efficiency is {}\".format(80883074937./17775463.))"
   ]
  },
  {
   "cell_type": "markdown",
   "metadata": {},
   "source": [
    "**Discussion**\n",
    "\n",
    "Here again the implementation using AVX gives worse performance (even worse than without prange!). We think it is because of overhead again. The cache efficiency is better but there are also a lot more instructions.\n",
    "\n",
    "---\n",
    "\n",
    "\n",
    "###prj_r1\n",
    "\n",
    "**Description**\n",
    "\n",
    "In this implementation, we do a prange at the level of the loop over the columns of the output image. Basically each raw is sent to threads. As you can see in the figure.\n",
    "\n",
    "The code snippet is:"
   ]
  },
  {
   "cell_type": "raw",
   "metadata": {},
   "source": [
    "    for i in range(lw, imsize0 + lw):\n",
    "        #initalize parameters afterwards there won't be GIL nor Python object\n",
    "        partial_output = np.zeros(imsize1, np.float32)\n",
    "        partial_sumg = np.zeros(imsize1, np.float32)\n",
    "\n",
    "        for j in prange(lw, imsize1 + lw, nogil = True, num_threads= num_thread):\n",
    "            [...code to compute each pixel with ranges...]"
   ]
  },
  {
   "cell_type": "markdown",
   "metadata": {},
   "source": [
    "**Prediction**\n",
    "\n",
    "This implementation seem more efficient because it gives more work per thread (the entire computation for a pixel instead of just part of it). This should have a better computation to memory movement ratio and should be better."
   ]
  },
  {
   "cell_type": "code",
   "execution_count": 29,
   "metadata": {
    "collapsed": false
   },
   "outputs": [
    {
     "name": "stdout",
     "output_type": "stream",
     "text": [
      "<built-in function prj_r1>: 8.23237800598s\n",
      "\n",
      " Performance counter stats for './driver_prj_r1.py 256 2 2 4':\n",
      "\n",
      "         7,910,879 cache-misses                                                \n",
      "    98,409,330,798 instructions             \n",
      "\n",
      "      46.866586806 seconds time elapsed\n",
      "\n"
     ]
    }
   ],
   "source": [
    "! perf stat -e cache-misses,instructions ./driver_prj_r1.py 256 2 2 4"
   ]
  },
  {
   "cell_type": "code",
   "execution_count": 19,
   "metadata": {
    "collapsed": false
   },
   "outputs": [
    {
     "name": "stdout",
     "output_type": "stream",
     "text": [
      "The cache efficiency is 12439.7466828\n"
     ]
    }
   ],
   "source": [
    "print(\"The cache efficiency is {}\".format(98409330798./7910879.))"
   ]
  },
  {
   "cell_type": "markdown",
   "metadata": {},
   "source": [
    "**Discussion**\n",
    "\n",
    "Second best cache efficiency. However it is slower than doing a range on the output pixels and a prange in the pixel computation.\n",
    "\n",
    "--- \n",
    "###prj_AVX\n",
    "\n",
    "**Description**\n",
    "\n",
    "Same as before, but not within the computation for a pixel we use AVX.\n",
    "\n",
    "**Prediction**\n",
    "\n",
    "Until now, we think that AVX's overhead has always hampered the performance. But now that there is more computation per thread AVX should be more useful. It is more similar to the case of Mandelbrot studied in Homework 2."
   ]
  },
  {
   "cell_type": "code",
   "execution_count": 30,
   "metadata": {
    "collapsed": false
   },
   "outputs": [
    {
     "name": "stdout",
     "output_type": "stream",
     "text": [
      "<built-in function prj_AVX>: 3.45617198944s\n",
      "\n",
      " Performance counter stats for './driver_prj_AVX.py 256 2 2 4':\n",
      "\n",
      "         5,707,750 cache-misses                                                \n",
      "    39,358,375,376 instructions             \n",
      "\n",
      "      22.125222766 seconds time elapsed\n",
      "\n"
     ]
    }
   ],
   "source": [
    "! perf stat -e cache-misses,instructions ./driver_prj_AVX.py 256 2 2 4"
   ]
  },
  {
   "cell_type": "code",
   "execution_count": 20,
   "metadata": {
    "collapsed": false
   },
   "outputs": [
    {
     "name": "stdout",
     "output_type": "stream",
     "text": [
      "The cache efficiency is 6895.6025362\n"
     ]
    }
   ],
   "source": [
    "print(\"The cache efficiency is {}\".format(39358375376./5707750.))"
   ]
  },
  {
   "cell_type": "markdown",
   "metadata": {},
   "source": [
    "**Discussion**\n",
    "\n",
    "Not the best performance. But lowest number of cache miss sofar. AVX makes it twice faster. We seem to have a better management of the memory and we become more CPU-bound. It matches our prediction!\n",
    "\n",
    "---\n",
    "\n",
    "###step_r1\n",
    "\n",
    "**Description**\n",
    "\n",
    "Here we do steps of 8 in the prange as in the image. There is another range within the thread. Now each thread is computing 8 output pixels so it load a slighly larger context.\n",
    "\n",
    "![](fig4.png)\n",
    "\n",
    "Nota Bene: Here we don't have AVX yet (as the image says and our AVX are 8 float32). This image was made for the next implementation but it actually also helps understanding this implementation.\n",
    "\n",
    "**Prediction**\n",
    "\n",
    "The performance should be similar to prj_r1. But now we are much more memory effective. We load slightly larger context, but we capitalize on the overlap of the context of neighboring pixels. There is less memory transfert and more computation per thread."
   ]
  },
  {
   "cell_type": "code",
   "execution_count": 31,
   "metadata": {
    "collapsed": false
   },
   "outputs": [
    {
     "name": "stdout",
     "output_type": "stream",
     "text": [
      "<built-in function step_r1>: 8.11321902275s\n",
      "\n",
      " Performance counter stats for './driver_step_r1.py 256 2 2 4':\n",
      "\n",
      "         7,080,684 cache-misses                                                \n",
      "    91,423,021,771 instructions             \n",
      "\n",
      "      44.161211767 seconds time elapsed\n",
      "\n"
     ]
    }
   ],
   "source": [
    "! perf stat -e cache-misses,instructions ./driver_step_r1.py 256 2 2 4"
   ]
  },
  {
   "cell_type": "code",
   "execution_count": 21,
   "metadata": {
    "collapsed": false
   },
   "outputs": [
    {
     "name": "stdout",
     "output_type": "stream",
     "text": [
      "The cache efficiency is 12911.6087896\n"
     ]
    }
   ],
   "source": [
    "print(\"The cache efficiency is {}\".format(91423021771./7080684.))"
   ]
  },
  {
   "cell_type": "markdown",
   "metadata": {},
   "source": [
    "**Discussion**\n",
    "\n",
    "The performance is indeed similar to prj_r1 but we have good hopes for the AVX implementation.\n",
    "\n",
    "---\n",
    "\n",
    "###AVX_r\n",
    "\n",
    "**Description**\n",
    "\n",
    "Instead of doing a range(8) to compute for a pixel in each thread, we do all the 8 pixel computations in parallel using AVX arrays.\n",
    "\n",
    "**Prediction**\n",
    "\n",
    "As our design is becoming ever more computation bound, AVX should be effective."
   ]
  },
  {
   "cell_type": "code",
   "execution_count": 32,
   "metadata": {
    "collapsed": false
   },
   "outputs": [
    {
     "name": "stdout",
     "output_type": "stream",
     "text": [
      "<built-in function AVX_r>: 2.16228485107s\n",
      "\n",
      " Performance counter stats for './driver_AVX_r.py 256 2 2 4':\n",
      "\n",
      "         5,902,434 cache-misses                                                \n",
      "    25,993,617,895 instructions             \n",
      "\n",
      "      14.082296152 seconds time elapsed\n",
      "\n"
     ]
    }
   ],
   "source": [
    "! perf stat -e cache-misses,instructions ./driver_AVX_r.py 256 2 2 4"
   ]
  },
  {
   "cell_type": "code",
   "execution_count": 22,
   "metadata": {
    "collapsed": false
   },
   "outputs": [
    {
     "name": "stdout",
     "output_type": "stream",
     "text": [
      "The cache efficiency is 4403.88116072\n"
     ]
    }
   ],
   "source": [
    "print(\"The cache efficiency is {}\".format(25993617895./5902434.))"
   ]
  },
  {
   "cell_type": "markdown",
   "metadata": {},
   "source": [
    "**Discussion**\n",
    "\n",
    "Here AVX proves useful! 4 times faster. We are much more compute bound. The number of cache miss is also one of the smallest which shows that we have a good management of the memory.\n",
    "\n",
    "---\n",
    "\n",
    "###mth_pr\n",
    "\n",
    "**Description**\n",
    "\n",
    "Now we create treads to send the rows. Thread i will compute for output pixels in row i modulo the number of threads.\n",
    "We also do a pranje over the rows. As my computer only has two thread it should not have much effect, however we make sure there is \"nogil = True\" that way. It is the only way to do actual multi-threading in Python.\n",
    "The image descibes the case where there are 4 threads (but we have only 2).\n",
    "\n",
    "![](fig3.png)\n",
    "\n",
    "A before, the output pixels are computed 8 by 8 using AVX\n",
    "\n",
    "**Prediction**\n",
    "\n",
    "Now we can benefit from the shared input. There won't be much of wasted time in memory movements and a lot of computation per thread. This should be our best implementation.\n",
    "\n",
    "Nota Bene: we could make the computation even more computation intensive per thread by doing a few steps of 8 per threads until the numbers of pixel per thread equals the width of the context needed to compute a pixel."
   ]
  },
  {
   "cell_type": "code",
   "execution_count": 34,
   "metadata": {
    "collapsed": false
   },
   "outputs": [
    {
     "name": "stdout",
     "output_type": "stream",
     "text": [
      "<built-in function mth_pr>: 1.3710360527s\n",
      "\n",
      " Performance counter stats for './driver_mth_pr.py 256 2 2 4':\n",
      "\n",
      "         6,121,724 cache-misses                                                \n",
      "    23,984,904,997 instructions             \n",
      "\n",
      "       9.597764980 seconds time elapsed\n",
      "\n"
     ]
    }
   ],
   "source": [
    "! perf stat -e cache-misses,instructions ./driver_mth_pr.py 256 2 2 4"
   ]
  },
  {
   "cell_type": "markdown",
   "metadata": {},
   "source": [
    "**Discussion**\n",
    "\n",
    "Best implementation with one of our lowest number of cache-misses."
   ]
  },
  {
   "cell_type": "markdown",
   "metadata": {},
   "source": [
    "---\n",
    "\n",
    "---\n",
    "\n",
    "\n",
    "\n",
    "# Benchmarking performances\n",
    "\n",
    "We apply our algorithm to randomly generated pictures of varying pixel size. The parameters we change are the size of the picture. The value for the truncating variable, which determines the size of the window that we need for the computation of one pixel."
   ]
  },
  {
   "cell_type": "markdown",
   "metadata": {},
   "source": [
    "**Load functions**\n",
    "\n",
    "You can see the code in the .pyx files."
   ]
  },
  {
   "cell_type": "code",
   "execution_count": 67,
   "metadata": {
    "collapsed": false
   },
   "outputs": [],
   "source": [
    "from r_r1 import * \n",
    "from r_pr1 import * \n",
    "from r_AVX1 import * \n",
    "from r_r2 import * \n",
    "from r_pr2 import * \n",
    "from r_AVX2 import * \n",
    "from prj_r1 import * \n",
    "from prj_AVX import * \n",
    "from step_r1 import * \n",
    "from AVX_r import * \n",
    "from mth_pr import *\n",
    "\n",
    "from timefunction import time_update\n",
    "\n",
    "import pandas as pd"
   ]
  },
  {
   "cell_type": "markdown",
   "metadata": {},
   "source": [
    "## **Benchmark when we vary the size of the image**\n",
    "\n",
    "Nota Bene, we do not use the designs corresponding to r_r2, r_pr2, r_AVX2. Because these implementation of the bilateral filters are the only ones that don't take the same image input as the others. But this design will be benchmarked in our Gaussian filter validation section thereafter.\n",
    "\n",
    "We print and plot the data. The print is for us in order to monitor how the computation evolves."
   ]
  },
  {
   "cell_type": "code",
   "execution_count": 71,
   "metadata": {
    "collapsed": false
   },
   "outputs": [
    {
     "name": "stdout",
     "output_type": "stream",
     "text": [
      "<built-in function r_r1>\n",
      "<built-in function r_r1>: 0.0308499336243s\n",
      "<built-in function r_r1>: 0.119443893433s\n",
      "<built-in function r_r1>: 0.480322122574s\n",
      "<built-in function r_r1>: 1.92615699768s\n",
      "<built-in function r_r1>: 7.7196559906s\n",
      "<built-in function r_r1>: 30.83821702s\n",
      "<built-in function r_r1>: 125.091391087s\n",
      "<built-in function r_pr1>\n",
      "<built-in function r_pr1>: 0.00864005088806s\n",
      "<built-in function r_pr1>: 0.0348901748657s\n",
      "<built-in function r_pr1>: 0.137650966644s\n",
      "<built-in function r_pr1>: 0.551414966583s\n",
      "<built-in function r_pr1>: 2.29449009895s\n",
      "<built-in function r_pr1>: 9.439702034s\n",
      "<built-in function r_pr1>: 37.9290239811s\n",
      "<built-in function r_AVX1>\n",
      "<built-in function r_AVX1>: 0.0107929706573s\n",
      "<built-in function r_AVX1>: 0.0429940223694s\n",
      "<built-in function r_AVX1>: 0.168313026428s\n",
      "<built-in function r_AVX1>: 0.708734989166s\n",
      "<built-in function r_AVX1>: 2.93402218819s\n",
      "<built-in function r_AVX1>: 11.8118729591s\n",
      "<built-in function r_AVX1>: 47.2310349941s\n",
      "<built-in function prj_r1>\n",
      "<built-in function prj_r1>: 0.00987195968628s\n",
      "<built-in function prj_r1>: 0.0349149703979s\n",
      "<built-in function prj_r1>: 0.123945951462s\n",
      "<built-in function prj_r1>: 0.48601603508s\n",
      "<built-in function prj_r1>: 1.98348903656s\n",
      "<built-in function prj_r1>: 7.90050411224s\n",
      "<built-in function prj_r1>: 31.3461251259s\n",
      "<built-in function prj_AVX>\n",
      "<built-in function prj_AVX>: 0.00494694709778s\n",
      "<built-in function prj_AVX>: 0.0152640342712s\n",
      "<built-in function prj_AVX>: 0.0516757965088s\n",
      "<built-in function prj_AVX>: 0.22774887085s\n",
      "<built-in function prj_AVX>: 0.784885883331s\n",
      "<built-in function prj_AVX>: 3.22164392471s\n",
      "<built-in function prj_AVX>: 12.6170480251s\n",
      "<built-in function step_r1>\n",
      "<built-in function step_r1>: 0.014014005661s\n",
      "<built-in function step_r1>: 0.0317940711975s\n",
      "<built-in function step_r1>: 0.114221811295s\n",
      "<built-in function step_r1>: 0.455534934998s\n",
      "<built-in function step_r1>: 1.86949896812s\n",
      "<built-in function step_r1>: 7.44261097908s\n",
      "<built-in function step_r1>: 29.6508691311s\n",
      "<built-in function AVX_r>\n",
      "<built-in function AVX_r>: 0.00310492515564s\n",
      "<built-in function AVX_r>: 0.01442694664s\n",
      "<built-in function AVX_r>: 0.0355441570282s\n",
      "<built-in function AVX_r>: 0.122273921967s\n",
      "<built-in function AVX_r>: 0.472528934479s\n",
      "<built-in function AVX_r>: 2.01278591156s\n",
      "<built-in function AVX_r>: 7.76574683189s\n",
      "<built-in function mth_pr>\n",
      "<built-in function mth_pr>: 0.00729012489319s\n",
      "<built-in function mth_pr>: 0.013484954834s\n",
      "<built-in function mth_pr>: 0.0313198566437s\n",
      "<built-in function mth_pr>: 0.0844399929047s\n",
      "<built-in function mth_pr>: 0.366549968719s\n",
      "<built-in function mth_pr>: 1.21009898186s\n",
      "<built-in function mth_pr>: 4.80476593971s\n"
     ]
    }
   ],
   "source": [
    "functions = [r_r1,r_pr1,r_AVX1,prj_r1,prj_AVX,step_r1,AVX_r,mth_pr]\n",
    "\n",
    "th = [None,2,2,2,2,2,2,2]\n",
    "\n",
    "truncate = 4\n",
    "sigma_r = 2\n",
    "sigma_s = 2\n",
    "\n",
    "assert len(functions) == len(th)\n",
    "\n",
    "iters = 10\n",
    "im_sizes = [2**k for k in range(3,iters)] \n",
    "\n",
    "\n",
    "times = [[0 for im_size in im_sizes] for fn in functions]\n",
    "\n",
    "\n",
    "for k, fn in enumerate(functions):\n",
    "    print str(fn)\n",
    "    for l,im_size in enumerate(im_sizes):\n",
    "        lw = (max(sigma_r, sigma_s)*truncate)\n",
    "\n",
    "        #create picture\n",
    "        picture = np.random.random((im_size, im_size))\n",
    "        \n",
    "        #preprocess\n",
    "        imsize = np.shape(picture)\n",
    "        input_im = np.zeros((lw + imsize[0] + lw, lw + imsize[1] + lw + 8 - (2 * lw + 1) % 8))\n",
    "        input_im[:(lw + imsize[0] + lw), :(lw + imsize[1] + lw)] = np.pad(picture, ((lw, lw), (lw, lw)), mode = 'reflect')\n",
    "\n",
    "        #time\n",
    "        times[k][l] = time_update(fn, truncate, imsize, picture, input_im, sigma_r, sigma_s, lw, th[k])\n",
    "        \n",
    "df = pd.DataFrame(times, dtype = float)\n",
    "df.to_csv('times.csv', index=False)"
   ]
  },
  {
   "cell_type": "markdown",
   "metadata": {},
   "source": [
    "**Plot the results**"
   ]
  },
  {
   "cell_type": "code",
   "execution_count": 83,
   "metadata": {
    "collapsed": false
   },
   "outputs": [
    {
     "data": {
      "text/plain": [
       "<matplotlib.legend.Legend at 0x7fb2fb803b90>"
      ]
     },
     "execution_count": 83,
     "metadata": {},
     "output_type": "execute_result"
    },
    {
     "data": {
      "image/png": "[encoded data removed]",
      "text/plain": [
       "<matplotlib.figure.Figure at 0x7fb2fb803b50>"
      ]
     },
     "metadata": {},
     "output_type": "display_data"
    }
   ],
   "source": [
    "functions = [r_r1,r_pr1,r_AVX1,prj_r1,prj_AVX,step_r1,AVX_r,mth_pr]\n",
    "for k in range(len(functions)):\n",
    "    plt.plot(im_sizes,times[:][k], \"o-\", label = \"{}\".format(str(functions[k])[19:-1]))\n",
    "plt.legend(loc=\"best\")"
   ]
  },
  {
   "cell_type": "markdown",
   "metadata": {},
   "source": [
    "---\n",
    "\n",
    "---\n",
    "\n",
    "## **Benchmark when we vary the truncation parameter**"
   ]
  },
  {
   "cell_type": "code",
   "execution_count": 75,
   "metadata": {
    "collapsed": false
   },
   "outputs": [
    {
     "name": "stdout",
     "output_type": "stream",
     "text": [
      "<built-in function r_r1>\n",
      "<built-in function r_r1>: 1.00942111015s\n",
      "<built-in function r_r1>: 2.71262311935s\n",
      "<built-in function r_r1>: 4.28363919258s\n",
      "<built-in function r_r1>: 7.67832303047s\n",
      "<built-in function r_r1>: 10.2861511707s\n",
      "<built-in function r_r1>: 15.4190070629s\n",
      "<built-in function r_r1>: 18.9899201393s\n",
      "<built-in function r_r1>: 25.7774009705s\n",
      "<built-in function r_r1>: 30.3871181011s\n",
      "<built-in function r_r1>: 39.8323748112s\n",
      "<built-in function r_pr1>\n",
      "<built-in function r_pr1>: 0.727787017822s\n",
      "<built-in function r_pr1>: 1.25052905083s\n",
      "<built-in function r_pr1>: 1.97246098518s\n",
      "<built-in function r_pr1>: 2.81269001961s\n",
      "<built-in function r_pr1>: 4.19944095612s\n",
      "<built-in function r_pr1>: 5.64744305611s\n",
      "<built-in function r_pr1>: 7.49790596962s\n",
      "<built-in function r_pr1>: 9.45620512962s\n",
      "<built-in function r_pr1>: 11.5738730431s\n",
      "<built-in function r_pr1>: 11.4540829659s\n",
      "<built-in function r_AVX1>\n",
      "<built-in function r_AVX1>: 2.23056697845s\n",
      "<built-in function r_AVX1>: 2.43670678139s\n",
      "<built-in function r_AVX1>: 2.49290180206s\n",
      "<built-in function r_AVX1>: 2.85974001884s\n",
      "<built-in function r_AVX1>: 2.94967198372s\n",
      "<built-in function r_AVX1>: 3.4756000042s\n",
      "<built-in function r_AVX1>: 3.60385084152s\n",
      "<built-in function r_AVX1>: 4.10850811005s\n",
      "<built-in function r_AVX1>: 4.37557792664s\n",
      "<built-in function r_AVX1>: 5.06334805489s\n",
      "<built-in function prj_r1>\n",
      "<built-in function prj_r1>: 0.267158031464s\n",
      "<built-in function prj_r1>: 0.812899112701s\n",
      "<built-in function prj_r1>: 1.43784999847s\n",
      "<built-in function prj_r1>: 2.18702292442s\n",
      "<built-in function prj_r1>: 2.96918392181s\n",
      "<built-in function prj_r1>: 4.36762714386s\n",
      "<built-in function prj_r1>: 5.70812487602s\n",
      "<built-in function prj_r1>: 7.30262303352s\n",
      "<built-in function prj_r1>: 9.01559996605s\n",
      "<built-in function prj_r1>: 11.503620863s\n",
      "<built-in function prj_AVX>\n",
      "<built-in function prj_AVX>: 0.104161024094s\n",
      "<built-in function prj_AVX>: 0.406738996506s\n",
      "<built-in function prj_AVX>: 0.598706007004s\n",
      "<built-in function prj_AVX>: 1.11708307266s\n",
      "<built-in function prj_AVX>: 1.29434609413s\n",
      "<built-in function prj_AVX>: 2.08818602562s\n",
      "<built-in function prj_AVX>: 2.37378311157s\n",
      "<built-in function prj_AVX>: 3.04815411568s\n",
      "<built-in function prj_AVX>: 3.39984107018s\n",
      "<built-in function prj_AVX>: 4.69012093544s\n",
      "<built-in function step_r1>\n",
      "<built-in function step_r1>: 0.171303033829s\n",
      "<built-in function step_r1>: 0.517931938171s\n",
      "<built-in function step_r1>: 1.08135199547s\n",
      "<built-in function step_r1>: 1.92657899857s\n",
      "<built-in function step_r1>: 2.88908410072s\n",
      "<built-in function step_r1>: 4.08901500702s\n",
      "<built-in function step_r1>: 5.71895599365s\n",
      "<built-in function step_r1>: 6.81427407265s\n",
      "<built-in function step_r1>: 8.46293210983s\n",
      "<built-in function step_r1>: 10.9889340401s\n",
      "<built-in function AVX_r>\n",
      "<built-in function AVX_r>: 0.0543930530548s\n",
      "<built-in function AVX_r>: 0.15854716301s\n",
      "<built-in function AVX_r>: 0.225079059601s\n",
      "<built-in function AVX_r>: 0.44084405899s\n",
      "<built-in function AVX_r>: 0.599265098572s\n",
      "<built-in function AVX_r>: 1.04692482948s\n",
      "<built-in function AVX_r>: 1.97318911552s\n",
      "<built-in function AVX_r>: 1.86263418198s\n",
      "<built-in function AVX_r>: 1.76784610748s\n",
      "<built-in function AVX_r>: 2.17556500435s\n",
      "<built-in function mth_pr>\n",
      "<built-in function mth_pr>: 0.0505149364471s\n",
      "<built-in function mth_pr>: 0.127151012421s\n",
      "<built-in function mth_pr>: 0.192861795425s\n",
      "<built-in function mth_pr>: 0.3336789608s\n",
      "<built-in function mth_pr>: 0.457993030548s\n",
      "<built-in function mth_pr>: 0.749694824219s\n",
      "<built-in function mth_pr>: 0.749529838562s\n",
      "<built-in function mth_pr>: 1.08796095848s\n",
      "<built-in function mth_pr>: 1.4410340786s\n",
      "<built-in function mth_pr>: 1.52444601059s\n"
     ]
    }
   ],
   "source": [
    "functions = [r_r1,r_pr1,r_AVX1,prj_r1,prj_AVX,step_r1,AVX_r,mth_pr]\n",
    "\n",
    "th = [None,2,2,2,2,2,2,2]\n",
    "iters = 11\n",
    "truncates = [k for k in range(1,iters)]\n",
    "sigma_r = 2\n",
    "sigma_s = 2\n",
    "im_size = 128\n",
    "\n",
    "assert len(functions) == len(th)\n",
    "\n",
    "times2 = [[0 for k in truncates] for fn in functions]\n",
    "\n",
    "\n",
    "for k, fn in enumerate(functions):\n",
    "    print str(fn)\n",
    "    for l,truncate in enumerate(truncates):\n",
    "        lw = (max(sigma_r, sigma_s)*truncate)\n",
    "\n",
    "        #create picture\n",
    "        picture = np.random.random((im_size, im_size))\n",
    "        \n",
    "        #preprocess\n",
    "        imsize = np.shape(picture)\n",
    "        input_im = np.zeros((lw + imsize[0] + lw, lw + imsize[1] + lw + 8 - (2 * lw + 1) % 8))\n",
    "        input_im[:(lw + imsize[0] + lw), :(lw + imsize[1] + lw)] = np.pad(picture, ((lw, lw), (lw, lw)), mode = 'reflect')\n",
    "\n",
    "        #time\n",
    "        times2[k][l] = time_update(fn, truncate, imsize, picture, input_im, sigma_r, sigma_s, lw, th[k])\n",
    "        \n",
    "df2 = pd.DataFrame(times2, dtype = float)\n",
    "df2.to_csv('times2.csv', index=False)"
   ]
  },
  {
   "cell_type": "markdown",
   "metadata": {},
   "source": [
    "**Plot the results**"
   ]
  },
  {
   "cell_type": "code",
   "execution_count": 79,
   "metadata": {
    "collapsed": false
   },
   "outputs": [
    {
     "data": {
      "text/plain": [
       "<matplotlib.legend.Legend at 0x7fb2fbc43450>"
      ]
     },
     "execution_count": 79,
     "metadata": {},
     "output_type": "execute_result"
    },
    {
     "data": {
      "image/png": "[encoded data removed]",
      "text/plain": [
       "<matplotlib.figure.Figure at 0x7fb2fbc43650>"
      ]
     },
     "metadata": {},
     "output_type": "display_data"
    }
   ],
   "source": [
    "for k in range(len(functions)):\n",
    "    plt.plot(truncates,times2[:][k],  \"o-\", label = \"{}\".format(str(functions[k])[19:-1]))\n",
    "plt.legend(loc=\"best\")"
   ]
  },
  {
   "cell_type": "markdown",
   "metadata": {},
   "source": []
  },
  {
   "cell_type": "markdown",
   "metadata": {},
   "source": [
    "---\n",
    "\n",
    "---\n",
    "\n",
    "## **Benchmark when we vary the truncation parameter**"
   ]
  },
  {
   "cell_type": "code",
   "execution_count": 96,
   "metadata": {
    "collapsed": false
   },
   "outputs": [
    {
     "name": "stdout",
     "output_type": "stream",
     "text": [
      "<built-in function r_r1>\n",
      "<built-in function r_r1>: 26.3264899254s\n",
      "<built-in function r_r1>: 26.3135619164s\n"
     ]
    },
    {
     "ename": "KeyboardInterrupt",
     "evalue": "",
     "output_type": "error",
     "traceback": [
      "\u001b[1;31m---------------------------------------------------------------------------\u001b[0m",
      "\u001b[1;31mKeyboardInterrupt\u001b[0m                         Traceback (most recent call last)",
      "\u001b[1;32m<ipython-input-96-d4270650db03>\u001b[0m in \u001b[0;36m<module>\u001b[1;34m()\u001b[0m\n\u001b[0;32m     28\u001b[0m \u001b[1;33m\u001b[0m\u001b[0m\n\u001b[0;32m     29\u001b[0m         \u001b[1;31m#time\u001b[0m\u001b[1;33m\u001b[0m\u001b[1;33m\u001b[0m\u001b[0m\n\u001b[1;32m---> 30\u001b[1;33m         \u001b[0mtimes3\u001b[0m\u001b[1;33m[\u001b[0m\u001b[0mk\u001b[0m\u001b[1;33m]\u001b[0m\u001b[1;33m[\u001b[0m\u001b[0ml\u001b[0m\u001b[1;33m]\u001b[0m \u001b[1;33m=\u001b[0m \u001b[0mtime_update\u001b[0m\u001b[1;33m(\u001b[0m\u001b[0mfn\u001b[0m\u001b[1;33m,\u001b[0m \u001b[0mtruncate\u001b[0m\u001b[1;33m,\u001b[0m \u001b[0mimsize\u001b[0m\u001b[1;33m,\u001b[0m \u001b[0mpicture\u001b[0m\u001b[1;33m,\u001b[0m \u001b[0minput_im\u001b[0m\u001b[1;33m,\u001b[0m \u001b[0msigma_r\u001b[0m\u001b[1;33m,\u001b[0m \u001b[0msigma_s\u001b[0m\u001b[1;33m,\u001b[0m \u001b[0mlw\u001b[0m\u001b[1;33m,\u001b[0m \u001b[0mth\u001b[0m\u001b[1;33m[\u001b[0m\u001b[0mk\u001b[0m\u001b[1;33m]\u001b[0m\u001b[1;33m)\u001b[0m\u001b[1;33m\u001b[0m\u001b[0m\n\u001b[0m\u001b[0;32m     31\u001b[0m \u001b[1;33m\u001b[0m\u001b[0m\n\u001b[0;32m     32\u001b[0m \u001b[0mdf2\u001b[0m \u001b[1;33m=\u001b[0m \u001b[0mpd\u001b[0m\u001b[1;33m.\u001b[0m\u001b[0mDataFrame\u001b[0m\u001b[1;33m(\u001b[0m\u001b[0mtimes2\u001b[0m\u001b[1;33m,\u001b[0m \u001b[0mdtype\u001b[0m \u001b[1;33m=\u001b[0m \u001b[0mfloat\u001b[0m\u001b[1;33m)\u001b[0m\u001b[1;33m\u001b[0m\u001b[0m\n",
      "\u001b[1;32m/home/raphael/filter_AVX/timefunction.pyc\u001b[0m in \u001b[0;36mtime_update\u001b[1;34m(function, truncate, imsize, picture, input_im, sigma_r, sigma_s, lw, num_thread)\u001b[0m\n\u001b[0;32m     19\u001b[0m                                                         \u001b[0moutput5\u001b[0m\u001b[1;33m,\u001b[0m\u001b[1;33m\u001b[0m\u001b[0m\n\u001b[0;32m     20\u001b[0m                                                         lw),\n\u001b[1;32m---> 21\u001b[1;33m                             number=3, repeat=5)\n\u001b[0m\u001b[0;32m     22\u001b[0m     \u001b[1;32melse\u001b[0m\u001b[1;33m:\u001b[0m\u001b[1;33m\u001b[0m\u001b[0m\n\u001b[0;32m     23\u001b[0m         times = timeit.repeat(lambda: function(sigma_s,\n",
      "\u001b[1;32m/usr/lib/python2.7/timeit.pyc\u001b[0m in \u001b[0;36mrepeat\u001b[1;34m(stmt, setup, timer, repeat, number)\u001b[0m\n\u001b[0;32m    233\u001b[0m            repeat=default_repeat, number=default_number):\n\u001b[0;32m    234\u001b[0m     \u001b[1;34m\"\"\"Convenience function to create Timer object and call repeat method.\"\"\"\u001b[0m\u001b[1;33m\u001b[0m\u001b[0m\n\u001b[1;32m--> 235\u001b[1;33m     \u001b[1;32mreturn\u001b[0m \u001b[0mTimer\u001b[0m\u001b[1;33m(\u001b[0m\u001b[0mstmt\u001b[0m\u001b[1;33m,\u001b[0m \u001b[0msetup\u001b[0m\u001b[1;33m,\u001b[0m \u001b[0mtimer\u001b[0m\u001b[1;33m)\u001b[0m\u001b[1;33m.\u001b[0m\u001b[0mrepeat\u001b[0m\u001b[1;33m(\u001b[0m\u001b[0mrepeat\u001b[0m\u001b[1;33m,\u001b[0m \u001b[0mnumber\u001b[0m\u001b[1;33m)\u001b[0m\u001b[1;33m\u001b[0m\u001b[0m\n\u001b[0m\u001b[0;32m    236\u001b[0m \u001b[1;33m\u001b[0m\u001b[0m\n\u001b[0;32m    237\u001b[0m \u001b[1;32mdef\u001b[0m \u001b[0mmain\u001b[0m\u001b[1;33m(\u001b[0m\u001b[0margs\u001b[0m\u001b[1;33m=\u001b[0m\u001b[0mNone\u001b[0m\u001b[1;33m)\u001b[0m\u001b[1;33m:\u001b[0m\u001b[1;33m\u001b[0m\u001b[0m\n",
      "\u001b[1;32m/usr/lib/python2.7/timeit.pyc\u001b[0m in \u001b[0;36mrepeat\u001b[1;34m(self, repeat, number)\u001b[0m\n\u001b[0;32m    221\u001b[0m         \u001b[0mr\u001b[0m \u001b[1;33m=\u001b[0m \u001b[1;33m[\u001b[0m\u001b[1;33m]\u001b[0m\u001b[1;33m\u001b[0m\u001b[0m\n\u001b[0;32m    222\u001b[0m         \u001b[1;32mfor\u001b[0m \u001b[0mi\u001b[0m \u001b[1;32min\u001b[0m \u001b[0mrange\u001b[0m\u001b[1;33m(\u001b[0m\u001b[0mrepeat\u001b[0m\u001b[1;33m)\u001b[0m\u001b[1;33m:\u001b[0m\u001b[1;33m\u001b[0m\u001b[0m\n\u001b[1;32m--> 223\u001b[1;33m             \u001b[0mt\u001b[0m \u001b[1;33m=\u001b[0m \u001b[0mself\u001b[0m\u001b[1;33m.\u001b[0m\u001b[0mtimeit\u001b[0m\u001b[1;33m(\u001b[0m\u001b[0mnumber\u001b[0m\u001b[1;33m)\u001b[0m\u001b[1;33m\u001b[0m\u001b[0m\n\u001b[0m\u001b[0;32m    224\u001b[0m             \u001b[0mr\u001b[0m\u001b[1;33m.\u001b[0m\u001b[0mappend\u001b[0m\u001b[1;33m(\u001b[0m\u001b[0mt\u001b[0m\u001b[1;33m)\u001b[0m\u001b[1;33m\u001b[0m\u001b[0m\n\u001b[0;32m    225\u001b[0m         \u001b[1;32mreturn\u001b[0m \u001b[0mr\u001b[0m\u001b[1;33m\u001b[0m\u001b[0m\n",
      "\u001b[1;32m/usr/lib/python2.7/timeit.pyc\u001b[0m in \u001b[0;36mtimeit\u001b[1;34m(self, number)\u001b[0m\n\u001b[0;32m    193\u001b[0m         \u001b[0mgc\u001b[0m\u001b[1;33m.\u001b[0m\u001b[0mdisable\u001b[0m\u001b[1;33m(\u001b[0m\u001b[1;33m)\u001b[0m\u001b[1;33m\u001b[0m\u001b[0m\n\u001b[0;32m    194\u001b[0m         \u001b[1;32mtry\u001b[0m\u001b[1;33m:\u001b[0m\u001b[1;33m\u001b[0m\u001b[0m\n\u001b[1;32m--> 195\u001b[1;33m             \u001b[0mtiming\u001b[0m \u001b[1;33m=\u001b[0m \u001b[0mself\u001b[0m\u001b[1;33m.\u001b[0m\u001b[0minner\u001b[0m\u001b[1;33m(\u001b[0m\u001b[0mit\u001b[0m\u001b[1;33m,\u001b[0m \u001b[0mself\u001b[0m\u001b[1;33m.\u001b[0m\u001b[0mtimer\u001b[0m\u001b[1;33m)\u001b[0m\u001b[1;33m\u001b[0m\u001b[0m\n\u001b[0m\u001b[0;32m    196\u001b[0m         \u001b[1;32mfinally\u001b[0m\u001b[1;33m:\u001b[0m\u001b[1;33m\u001b[0m\u001b[0m\n\u001b[0;32m    197\u001b[0m             \u001b[1;32mif\u001b[0m \u001b[0mgcold\u001b[0m\u001b[1;33m:\u001b[0m\u001b[1;33m\u001b[0m\u001b[0m\n",
      "\u001b[1;32m/usr/lib/python2.7/timeit.pyc\u001b[0m in \u001b[0;36minner\u001b[1;34m(_it, _timer, _func)\u001b[0m\n\u001b[0;32m     98\u001b[0m         \u001b[0m_t0\u001b[0m \u001b[1;33m=\u001b[0m \u001b[0m_timer\u001b[0m\u001b[1;33m(\u001b[0m\u001b[1;33m)\u001b[0m\u001b[1;33m\u001b[0m\u001b[0m\n\u001b[0;32m     99\u001b[0m         \u001b[1;32mfor\u001b[0m \u001b[0m_i\u001b[0m \u001b[1;32min\u001b[0m \u001b[0m_it\u001b[0m\u001b[1;33m:\u001b[0m\u001b[1;33m\u001b[0m\u001b[0m\n\u001b[1;32m--> 100\u001b[1;33m             \u001b[0m_func\u001b[0m\u001b[1;33m(\u001b[0m\u001b[1;33m)\u001b[0m\u001b[1;33m\u001b[0m\u001b[0m\n\u001b[0m\u001b[0;32m    101\u001b[0m         \u001b[0m_t1\u001b[0m \u001b[1;33m=\u001b[0m \u001b[0m_timer\u001b[0m\u001b[1;33m(\u001b[0m\u001b[1;33m)\u001b[0m\u001b[1;33m\u001b[0m\u001b[0m\n\u001b[0;32m    102\u001b[0m         \u001b[1;32mreturn\u001b[0m \u001b[0m_t1\u001b[0m \u001b[1;33m-\u001b[0m \u001b[0m_t0\u001b[0m\u001b[1;33m\u001b[0m\u001b[0m\n",
      "\u001b[1;32m/home/raphael/filter_AVX/timefunction.pyc\u001b[0m in \u001b[0;36m<lambda>\u001b[1;34m()\u001b[0m\n\u001b[0;32m     18\u001b[0m                                                         \u001b[0mimsize1\u001b[0m\u001b[1;33m,\u001b[0m\u001b[1;33m\u001b[0m\u001b[0m\n\u001b[0;32m     19\u001b[0m                                                         \u001b[0moutput5\u001b[0m\u001b[1;33m,\u001b[0m\u001b[1;33m\u001b[0m\u001b[0m\n\u001b[1;32m---> 20\u001b[1;33m                                                         lw),\n\u001b[0m\u001b[0;32m     21\u001b[0m                             number=3, repeat=5)\n\u001b[0;32m     22\u001b[0m     \u001b[1;32melse\u001b[0m\u001b[1;33m:\u001b[0m\u001b[1;33m\u001b[0m\u001b[0m\n",
      "\u001b[1;32m/home/raphael/filter_AVX/r_r1.pyx\u001b[0m in \u001b[0;36mr_r1.r_r1 (/home/raphael/.pyxbld/temp.linux-x86_64-2.7/pyrex/r_r1.c:2666)\u001b[1;34m()\u001b[0m\n\u001b[0;32m     17\u001b[0m \u001b[1;33m@\u001b[0m\u001b[0mcython\u001b[0m\u001b[1;33m.\u001b[0m\u001b[0mwraparound\u001b[0m\u001b[1;33m(\u001b[0m\u001b[0mFalse\u001b[0m\u001b[1;33m)\u001b[0m\u001b[1;33m\u001b[0m\u001b[0m\n\u001b[0;32m     18\u001b[0m \u001b[1;33m@\u001b[0m\u001b[0mcython\u001b[0m\u001b[1;33m.\u001b[0m\u001b[0minitializedcheck\u001b[0m\u001b[1;33m(\u001b[0m\u001b[0mFalse\u001b[0m\u001b[1;33m)\u001b[0m\u001b[1;33m\u001b[0m\u001b[0m\n\u001b[1;32m---> 19\u001b[1;33m cpdef r_r1(float sigma_s,\n\u001b[0m\u001b[0;32m     20\u001b[0m                         \u001b[0mfloat\u001b[0m \u001b[0msigma_r\u001b[0m\u001b[1;33m,\u001b[0m\u001b[1;33m\u001b[0m\u001b[0m\n\u001b[0;32m     21\u001b[0m                         \u001b[0mnp\u001b[0m\u001b[1;33m.\u001b[0m\u001b[0mfloat32_t\u001b[0m \u001b[1;33m[\u001b[0m\u001b[1;33m:\u001b[0m\u001b[1;33m,\u001b[0m \u001b[1;33m:\u001b[0m\u001b[1;33m]\u001b[0m \u001b[0minput_im\u001b[0m\u001b[1;33m,\u001b[0m\u001b[1;33m\u001b[0m\u001b[0m\n",
      "\u001b[1;32m/home/raphael/filter_AVX/r_r1.pyx\u001b[0m in \u001b[0;36mr_r1.r_r1 (/home/raphael/.pyxbld/temp.linux-x86_64-2.7/pyrex/r_r1.c:2410)\u001b[1;34m()\u001b[0m\n\u001b[0;32m     52\u001b[0m                     \u001b[1;31m# take local_input which will become an AVX 8-array\u001b[0m\u001b[1;33m\u001b[0m\u001b[1;33m\u001b[0m\u001b[0m\n\u001b[0;32m     53\u001b[0m                     \u001b[0mlocal_input\u001b[0m \u001b[1;33m=\u001b[0m \u001b[0mwindow\u001b[0m\u001b[1;33m[\u001b[0m\u001b[0mk\u001b[0m\u001b[1;33m,\u001b[0m\u001b[0ml\u001b[0m\u001b[1;33m:\u001b[0m\u001b[0ml\u001b[0m\u001b[1;33m+\u001b[0m\u001b[1;36m8\u001b[0m\u001b[1;33m]\u001b[0m\u001b[1;33m\u001b[0m\u001b[0m\n\u001b[1;32m---> 54\u001b[1;33m                     \u001b[1;32massert\u001b[0m \u001b[0mnp\u001b[0m\u001b[1;33m.\u001b[0m\u001b[0msize\u001b[0m\u001b[1;33m(\u001b[0m\u001b[0mlocal_input\u001b[0m\u001b[1;33m)\u001b[0m \u001b[1;33m==\u001b[0m \u001b[1;36m8\u001b[0m\u001b[1;33m\u001b[0m\u001b[0m\n\u001b[0m\u001b[0;32m     55\u001b[0m \u001b[1;33m\u001b[0m\u001b[0m\n\u001b[0;32m     56\u001b[0m                     \u001b[1;32mfor\u001b[0m \u001b[0mcur\u001b[0m \u001b[1;32min\u001b[0m \u001b[0mrange\u001b[0m\u001b[1;33m(\u001b[0m\u001b[1;36m8\u001b[0m\u001b[1;33m)\u001b[0m\u001b[1;33m:\u001b[0m\u001b[1;33m\u001b[0m\u001b[0m\n",
      "\u001b[1;32m/usr/local/lib/python2.7/dist-packages/numpy/core/fromnumeric.pyc\u001b[0m in \u001b[0;36msize\u001b[1;34m(a, axis)\u001b[0m\n\u001b[0;32m   2512\u001b[0m \u001b[1;33m\u001b[0m\u001b[0m\n\u001b[0;32m   2513\u001b[0m \u001b[1;33m\u001b[0m\u001b[0m\n\u001b[1;32m-> 2514\u001b[1;33m \u001b[1;32mdef\u001b[0m \u001b[0msize\u001b[0m\u001b[1;33m(\u001b[0m\u001b[0ma\u001b[0m\u001b[1;33m,\u001b[0m \u001b[0maxis\u001b[0m\u001b[1;33m=\u001b[0m\u001b[0mNone\u001b[0m\u001b[1;33m)\u001b[0m\u001b[1;33m:\u001b[0m\u001b[1;33m\u001b[0m\u001b[0m\n\u001b[0m\u001b[0;32m   2515\u001b[0m     \"\"\"\n\u001b[0;32m   2516\u001b[0m     \u001b[0mReturn\u001b[0m \u001b[0mthe\u001b[0m \u001b[0mnumber\u001b[0m \u001b[0mof\u001b[0m \u001b[0melements\u001b[0m \u001b[0malong\u001b[0m \u001b[0ma\u001b[0m \u001b[0mgiven\u001b[0m \u001b[0maxis\u001b[0m\u001b[1;33m.\u001b[0m\u001b[1;33m\u001b[0m\u001b[0m\n",
      "\u001b[1;31mKeyboardInterrupt\u001b[0m: "
     ]
    }
   ],
   "source": [
    "functions = [r_r1,r_pr1,r_AVX1,prj_r1,prj_AVX,step_r1,AVX_r,mth_pr]\n",
    "\n",
    "\n",
    "iters = 8\n",
    "threads = [k for k in range(1,iters)]\n",
    "sigma_r = 2\n",
    "sigma_s = 2\n",
    "im_size = 128\n",
    "\n",
    "assert len(functions) == len(th)\n",
    "\n",
    "times3 = [[0 for k in threads] for fn in functions]\n",
    "\n",
    "\n",
    "for k, fn in enumerate(functions):\n",
    "    print str(fn)\n",
    "    for l,thread in enumerate(threads):\n",
    "        lw = (max(sigma_r, sigma_s)*truncate)\n",
    "\n",
    "        th = [None,thread,thread,thread,thread,thread,thread,thread]\n",
    "        #create picture\n",
    "        picture = np.random.random((im_size, im_size))\n",
    "        \n",
    "        #preprocess\n",
    "        imsize = np.shape(picture)\n",
    "        input_im = np.zeros((lw + imsize[0] + lw, lw + imsize[1] + lw + 8 - (2 * lw + 1) % 8))\n",
    "        input_im[:(lw + imsize[0] + lw), :(lw + imsize[1] + lw)] = np.pad(picture, ((lw, lw), (lw, lw)), mode = 'reflect')\n",
    "\n",
    "        #time\n",
    "        times3[k][l] = time_update(fn, truncate, imsize, picture, input_im, sigma_r, sigma_s, lw, th[k])\n",
    "        \n",
    "df2 = pd.DataFrame(times2, dtype = float)\n",
    "df2.to_csv('times2.csv', index=False)"
   ]
  },
  {
   "cell_type": "code",
   "execution_count": null,
   "metadata": {
    "collapsed": true
   },
   "outputs": [],
   "source": [
    "for k in range(len(functions)):\n",
    "    plt.plot(threads,times2[:][k],  \"o-\", label = \"{}\".format(str(functions[k])[19:-1]))\n",
    "plt.legend(loc=\"best\")"
   ]
  }
 ],
 "metadata": {
  "kernelspec": {
   "display_name": "Python 2",
   "language": "python",
   "name": "python2"
  },
  "language_info": {
   "codemirror_mode": {
    "name": "ipython",
    "version": 2
   },
   "file_extension": ".py",
   "mimetype": "text/x-python",
   "name": "python",
   "nbconvert_exporter": "python",
   "pygments_lexer": "ipython2",
   "version": "2.7.6"
  }
 },
 "nbformat": 4,
 "nbformat_minor": 0
}
